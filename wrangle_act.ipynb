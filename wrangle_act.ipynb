{
 "cells": [
  {
   "cell_type": "markdown",
   "metadata": {
    "extensions": {
     "jupyter_dashboards": {
      "version": 1,
      "views": {
       "grid_default": {
        "col": 0,
        "height": 4,
        "hidden": false,
        "row": 0,
        "width": 4
       },
       "report_default": {
        "hidden": false
       }
      }
     }
    }
   },
   "source": [
    "# Project: Wrangling and Analyze Data\n",
    "\n",
    "## Table of Contents\n",
    "<ul>\n",
    "<li><a href=\"#intro\">Introduction</a></li>\n",
    "<li><a href=\"#gathering\">Data Gathering</a></li>\n",
    "<li><a href=\"#assess\">Assesing Data</a></li>\n",
    "<li><a href=\"#clean\">Cleaning Data</a></li>\n",
    "<li><a href=\"#store\">Storing Data </a></li>\n",
    "<li><a href=\"#ana\">Analysing and Visualizing</a></li>\n",
    "<li><a href=\"#ana\">Conclusion</a></li>   \n",
    "</ul>"
   ]
  },
  {
   "cell_type": "markdown",
   "metadata": {},
   "source": [
    "<a id='intro'></a>\n",
    "## Introduction\n",
    "Data wrangling is a term that describes one of the earliest stages of data analysis. It is the process of gathering raw data in different formats and  making them more appropriate for use in a suitable format.\n",
    "It involves gathering data from different sources and making them more suitable and appropriate for a particular kind of analysis. Steps involved in data wrangling include and are not limited to;\n",
    "* Merging several data sources into one data-set for analysis.\n",
    "* Identifying gaps or empty cells in data and either filling or removing them.\n",
    "* Deleting irrelevant or unnecessary data.\n",
    "* Identifying severe outliers in data and either explaining the inconsistencies or deleting them.\n",
    "\n",
    "In this project, I am expected to;\n",
    "- wrangle data.\n",
    "    - gather data.\n",
    "    - access data and.\n",
    "    - clean data.\n",
    "- store, analyse and visualise wrangled data.\n",
    "- make reports on data wrangling and data analysis."
   ]
  },
  {
   "cell_type": "code",
   "execution_count": 49,
   "metadata": {},
   "outputs": [],
   "source": [
    "# importing all required libraries\n",
    "import pandas as pd\n",
    "import numpy as np\n",
    "import requests\n",
    "import tweepy\n",
    "import os\n",
    "import json\n",
    "from time import time\n",
    "import re\n",
    "import matplotlib.pyplot as plt\n",
    "import seaborn as sns\n",
    "\n",
    "%matplotlib inline"
   ]
  },
  {
   "cell_type": "markdown",
   "metadata": {},
   "source": [
    "<a id='gathering'></a>\n",
    "## Data Gathering\n",
    "\n",
    "Data was gathered according to instructions from the udacity learning platform.\n",
    "* A csv file containing an archive of tweets from an account *we rate dogs* with 5000+ tweets was manually downloaded and read into a dataframe **twitter_archive_df**.\n",
    "* A tsv file *image predictions tsv*, was read into a dataframe **image_predictions_df** through requests library.\n",
    "* The third data was to be queried from tweepy via twitter APIs. My developer account varificatio was unsuccessful so I'm taking the alternative route provided on the udacity platform to query my data."
   ]
  },
  {
   "cell_type": "code",
   "execution_count": 50,
   "metadata": {},
   "outputs": [
    {
     "name": "stdout",
     "output_type": "stream",
     "text": [
      "<class 'pandas.core.frame.DataFrame'>\n",
      "RangeIndex: 2356 entries, 0 to 2355\n",
      "Data columns (total 17 columns):\n",
      " #   Column                      Non-Null Count  Dtype  \n",
      "---  ------                      --------------  -----  \n",
      " 0   tweet_id                    2356 non-null   int64  \n",
      " 1   in_reply_to_status_id       78 non-null     float64\n",
      " 2   in_reply_to_user_id         78 non-null     float64\n",
      " 3   timestamp                   2356 non-null   object \n",
      " 4   source                      2356 non-null   object \n",
      " 5   text                        2356 non-null   object \n",
      " 6   retweeted_status_id         181 non-null    float64\n",
      " 7   retweeted_status_user_id    181 non-null    float64\n",
      " 8   retweeted_status_timestamp  181 non-null    object \n",
      " 9   expanded_urls               2297 non-null   object \n",
      " 10  rating_numerator            2356 non-null   int64  \n",
      " 11  rating_denominator          2356 non-null   int64  \n",
      " 12  name                        2356 non-null   object \n",
      " 13  doggo                       2356 non-null   object \n",
      " 14  floofer                     2356 non-null   object \n",
      " 15  pupper                      2356 non-null   object \n",
      " 16  puppo                       2356 non-null   object \n",
      "dtypes: float64(4), int64(3), object(10)\n",
      "memory usage: 313.0+ KB\n"
     ]
    }
   ],
   "source": [
    "# reading the given twitter_archive_enhanced csv file into a pandas dataframe\n",
    "twitter_archive_df = pd.read_csv('twitter_archive_enhanced.csv')\n",
    "twitter_archive_df.info()"
   ]
  },
  {
   "cell_type": "markdown",
   "metadata": {},
   "source": [
    "Use the Requests library to download the tweet image prediction (image_predictions.tsv)"
   ]
  },
  {
   "cell_type": "code",
   "execution_count": 3,
   "metadata": {},
   "outputs": [],
   "source": [
    "# Using the Requests library to download the tweet image prediction file (image_predictions.tsv) hosted on udacity server.\n",
    "\n",
    "url = \"https://d17h27t6h515a5.cloudfront.net/topher/2017/August/599fd2ad_image-predictions/image-predictions.tsv\"\n",
    "response = requests.get(url)\n",
    "with open('image_predictions.tsv', 'wb') as file:\n",
    "    file.write(response.content)"
   ]
  },
  {
   "cell_type": "code",
   "execution_count": 51,
   "metadata": {},
   "outputs": [
    {
     "name": "stdout",
     "output_type": "stream",
     "text": [
      "<class 'pandas.core.frame.DataFrame'>\n",
      "RangeIndex: 2075 entries, 0 to 2074\n",
      "Data columns (total 12 columns):\n",
      " #   Column    Non-Null Count  Dtype  \n",
      "---  ------    --------------  -----  \n",
      " 0   tweet_id  2075 non-null   int64  \n",
      " 1   jpg_url   2075 non-null   object \n",
      " 2   img_num   2075 non-null   int64  \n",
      " 3   p1        2075 non-null   object \n",
      " 4   p1_conf   2075 non-null   float64\n",
      " 5   p1_dog    2075 non-null   bool   \n",
      " 6   p2        2075 non-null   object \n",
      " 7   p2_conf   2075 non-null   float64\n",
      " 8   p2_dog    2075 non-null   bool   \n",
      " 9   p3        2075 non-null   object \n",
      " 10  p3_conf   2075 non-null   float64\n",
      " 11  p3_dog    2075 non-null   bool   \n",
      "dtypes: bool(3), float64(3), int64(2), object(4)\n",
      "memory usage: 152.1+ KB\n"
     ]
    }
   ],
   "source": [
    "# reading the downloaded image_prediction tsv file into a pandas dataframe\n",
    "image_predictions_df = pd.read_csv('image_predictions.tsv', sep='\\t')\n",
    "image_predictions_df.info()"
   ]
  },
  {
   "cell_type": "markdown",
   "metadata": {},
   "source": [
    "3. Use the Tweepy library to query additional data via the Twitter API (tweet_json.txt)"
   ]
  },
  {
   "cell_type": "code",
   "execution_count": 4,
   "metadata": {},
   "outputs": [
    {
     "data": {
      "text/plain": [
       "<tweepy.api.API at 0x1fb426d9c70>"
      ]
     },
     "metadata": {},
     "output_type": "display_data"
    }
   ],
   "source": [
    "# using tweepy library\n",
    "CONSUMER_KEY = \n",
    "CONSUMER_SECRET = \n",
    "ACCESS_TOKEN = \n",
    "ACCESS_TOKEN_SECRET = \n",
    "\n",
    "#Pass in your twitter API authentication key\n",
    "auth = tweepy.OAuth1UserHandler(\n",
    "    CONSUMER_KEY, CONSUMER_SECRET,\n",
    "    ACCESS_TOKEN, ACCESS_TOKEN_SECRET\n",
    ")\n",
    "\n",
    "#Instantiate the tweepy API\n",
    "api = tweepy.API(auth, wait_on_rate_limit=True)\n",
    "display(api)"
   ]
  },
  {
   "cell_type": "code",
   "execution_count": 5,
   "metadata": {
    "scrolled": true
   },
   "outputs": [
    {
     "name": "stdout",
     "output_type": "stream",
     "text": [
      "tweet ID: 888202515573088257 _ error: 404 Not Found\n",
      "144 - No status found with that ID.\n",
      "tweet ID: 877611172832227328 _ error: 403 Forbidden\n",
      "179 - Sorry, you are not authorized to see this status.\n",
      "tweet ID: 873697596434513921 _ error: 404 Not Found\n",
      "144 - No status found with that ID.\n",
      "tweet ID: 872668790621863937 _ error: 404 Not Found\n",
      "144 - No status found with that ID.\n",
      "tweet ID: 872261713294495745 _ error: 404 Not Found\n",
      "144 - No status found with that ID.\n",
      "tweet ID: 869988702071779329 _ error: 404 Not Found\n",
      "144 - No status found with that ID.\n",
      "tweet ID: 866816280283807744 _ error: 404 Not Found\n",
      "144 - No status found with that ID.\n",
      "tweet ID: 861769973181624320 _ error: 404 Not Found\n",
      "144 - No status found with that ID.\n",
      "tweet ID: 856602993587888130 _ error: 404 Not Found\n",
      "144 - No status found with that ID.\n",
      "tweet ID: 856330835276025856 _ error: 404 Not Found\n",
      "144 - No status found with that ID.\n",
      "tweet ID: 851953902622658560 _ error: 404 Not Found\n",
      "144 - No status found with that ID.\n",
      "tweet ID: 851861385021730816 _ error: 404 Not Found\n",
      "144 - No status found with that ID.\n",
      "tweet ID: 845459076796616705 _ error: 404 Not Found\n",
      "144 - No status found with that ID.\n",
      "tweet ID: 844704788403113984 _ error: 404 Not Found\n",
      "144 - No status found with that ID.\n",
      "tweet ID: 842892208864923648 _ error: 404 Not Found\n",
      "144 - No status found with that ID.\n",
      "tweet ID: 837366284874571778 _ error: 404 Not Found\n",
      "144 - No status found with that ID.\n",
      "tweet ID: 837012587749474308 _ error: 404 Not Found\n",
      "144 - No status found with that ID.\n",
      "tweet ID: 829374341691346946 _ error: 404 Not Found\n",
      "144 - No status found with that ID.\n",
      "tweet ID: 827228250799742977 _ error: 404 Not Found\n",
      "144 - No status found with that ID.\n",
      "tweet ID: 812747805718642688 _ error: 404 Not Found\n",
      "144 - No status found with that ID.\n",
      "tweet ID: 802247111496568832 _ error: 404 Not Found\n",
      "144 - No status found with that ID.\n",
      "tweet ID: 779123168116150273 _ error: 404 Not Found\n",
      "144 - No status found with that ID.\n",
      "tweet ID: 775096608509886464 _ error: 404 Not Found\n",
      "144 - No status found with that ID.\n",
      "tweet ID: 771004394259247104 _ error: 403 Forbidden\n",
      "179 - Sorry, you are not authorized to see this status.\n",
      "tweet ID: 770743923962707968 _ error: 404 Not Found\n",
      "144 - No status found with that ID.\n",
      "tweet ID: 766864461642756096 _ error: 404 Not Found\n",
      "144 - No status found with that ID.\n",
      "tweet ID: 759923798737051648 _ error: 404 Not Found\n",
      "144 - No status found with that ID.\n",
      "tweet ID: 759566828574212096 _ error: 404 Not Found\n",
      "144 - No status found with that ID.\n"
     ]
    },
    {
     "name": "stderr",
     "output_type": "stream",
     "text": [
      "Rate limit reached. Sleeping for: 204\n"
     ]
    },
    {
     "name": "stdout",
     "output_type": "stream",
     "text": [
      "tweet ID: 757597904299253760 _ error: 404 Not Found\n",
      "34 - Sorry, that page does not exist.\n",
      "tweet ID: 754011816964026368 _ error: 404 Not Found\n",
      "144 - No status found with that ID.\n",
      "tweet ID: 680055455951884288 _ error: 404 Not Found\n",
      "144 - No status found with that ID.\n"
     ]
    },
    {
     "name": "stderr",
     "output_type": "stream",
     "text": [
      "Rate limit reached. Sleeping for: 71\n"
     ]
    },
    {
     "name": "stdout",
     "output_type": "stream",
     "text": [
      "Time taken for to query the Twitter API is 2256.893917798996secs\n"
     ]
    }
   ],
   "source": [
    "# Getting tweet JSON data via tweet ID using Tweepy\n",
    "tweet_ids = list(twitter_archive_df['tweet_id'])\n",
    "\n",
    "\n",
    "# creating a list for tweets and noting tweets with exceptions/errors \n",
    "tweets_data = []\n",
    "tweet_errors = []\n",
    "\n",
    "\n",
    "start = time() # code execution start time\n",
    "\n",
    "# Iteration to add each available tweet json to tweets_data and flag unavailable tweets\n",
    "for tweet_id in tweet_ids:\n",
    "    try:\n",
    "        tweet = api.get_status(tweet_id, tweet_mode= 'extended')._json \n",
    "        \n",
    "        # from the tweets json, extract the favorite_count, retweet_count and the time of creation\n",
    "        favorites = tweet['favorite_count'] # number of likes for each tweet_id\n",
    "        retweets = tweet['retweet_count'] # number of retweets for each tweet_id\n",
    "        timestamp = tweet['created_at'] # the timestamp i.e. date and time of creation of the tweet\n",
    "\n",
    "        \n",
    "        tweets_data.append({'tweet_id': int(tweet_id),\n",
    "                            'favorites': int(favorites),\n",
    "                            'retweets': int(retweets),\n",
    "                            'timestamp': pd.to_datetime(timestamp)})\n",
    "    except Exception as e:\n",
    "        print(\"tweet ID: \" + str(tweet_id)+ \" _ \" + \"error: \" + str(e))\n",
    "        tweet_errors.append(tweet_id)\n",
    "        \n",
    "\n",
    "end = time() # code execution end time \n",
    "\n",
    "print(f\"Time taken for to query the Twitter API is {end - start}secs\") # displaying the execution time"
   ]
  },
  {
   "cell_type": "code",
   "execution_count": 16,
   "metadata": {
    "scrolled": true
   },
   "outputs": [
    {
     "name": "stdout",
     "output_type": "stream",
     "text": [
      "length of result: 2325\n",
      "length of errors: 31\n"
     ]
    }
   ],
   "source": [
    "# total tweets received from the Twitter API\n",
    "print(f'length of result: {len(tweets_data)}')\n",
    "\n",
    "# Total tweets with error\n",
    "print(f'length of errors: {len(tweet_errors)}')"
   ]
  },
  {
   "cell_type": "code",
   "execution_count": 17,
   "metadata": {},
   "outputs": [],
   "source": [
    "# creating DataFrames\n",
    "tweets_data_json_df = pd.DataFrame(tweets_data, columns = ['tweet_id', 'favorites', 'retweets', 'timestamp'])\n",
    "\n",
    "# saving the dataFrame to a .txt file\n",
    "tweets_data_json_df.to_csv('tweet_json.txt', encoding = 'utf-8', index=False)"
   ]
  },
  {
   "cell_type": "code",
   "execution_count": 52,
   "metadata": {
    "scrolled": true
   },
   "outputs": [
    {
     "name": "stdout",
     "output_type": "stream",
     "text": [
      "<class 'pandas.core.frame.DataFrame'>\n",
      "RangeIndex: 2325 entries, 0 to 2324\n",
      "Data columns (total 4 columns):\n",
      " #   Column     Non-Null Count  Dtype \n",
      "---  ------     --------------  ----- \n",
      " 0   tweet_id   2325 non-null   int64 \n",
      " 1   favorites  2325 non-null   int64 \n",
      " 2   retweets   2325 non-null   int64 \n",
      " 3   timestamp  2325 non-null   object\n",
      "dtypes: int64(3), object(1)\n",
      "memory usage: 72.8+ KB\n"
     ]
    }
   ],
   "source": [
    "# read the saved tweet_json.txt file into a dataframe\n",
    "\n",
    "tweets_data_df = pd.read_csv('tweet_json.txt', encoding = 'utf-8')\n",
    "tweets_data_df.head()\n",
    "tweets_data_df.info()"
   ]
  },
  {
   "cell_type": "markdown",
   "metadata": {},
   "source": [
    "#### The Data Gathering process was completed successfully.\n",
    "\n",
    "- I have downloaded ad uploaded **`twitter_archive_enhanced.csv`** and read it into a Pandas DataFrame.\n",
    "- I have downloaded **`image_prediction.tsv`** from the provided URL using the `Request` library.\n",
    "- I have queried each tweet's retweet count and favorite (\"like\") count using the `Tweepy` library and stored the data in **`tweet_json.txt`**.\n",
    "- I have read the `tweet_json.txt` line by line into a pandas DataFrame with tweet ID, retweet count, and favorite count."
   ]
  },
  {
   "cell_type": "markdown",
   "metadata": {
    "extensions": {
     "jupyter_dashboards": {
      "version": 1,
      "views": {
       "grid_default": {
        "col": 4,
        "height": 4,
        "hidden": false,
        "row": 28,
        "width": 4
       },
       "report_default": {
        "hidden": false
       }
      }
     }
    }
   },
   "source": [
    "<a id='assess'></a>\n",
    "## Assessing Data\n",
    "In this section, detect and document at least **eight (8) quality issues and two (2) tidiness issue**. You must use **both** visual assessment\n",
    "programmatic assessement to assess the data.\n",
    "\n",
    "**Note:** pay attention to the following key points when you access the data.\n",
    "\n",
    "* You only want original ratings (no retweets) that have images. Though there are 5000+ tweets in the dataset, not all are dog ratings and some are retweets.\n",
    "* Assessing and cleaning the entire dataset completely would require a lot of time, and is not necessary to practice and demonstrate your skills in data wrangling. Therefore, the requirements of this project are only to assess and clean at least 8 quality issues and at least 2 tidiness issues in this dataset.\n",
    "* The fact that the rating numerators are greater than the denominators does not need to be cleaned. This [unique rating system](http://knowyourmeme.com/memes/theyre-good-dogs-brent) is a big part of the popularity of WeRateDogs.\n",
    "* You do not need to gather the tweets beyond August 1st, 2017. You can, but note that you won't be able to gather the image predictions for these tweets since you don't have access to the algorithm used.\n",
    "\n"
   ]
  },
  {
   "cell_type": "markdown",
   "metadata": {},
   "source": [
    "### Accessing Twitter Archive Dataframe\n",
    "\n",
    "#### Visual Assessment"
   ]
  },
  {
   "cell_type": "code",
   "execution_count": 133,
   "metadata": {},
   "outputs": [
    {
     "data": {
      "text/html": [
       "<div>\n",
       "<style scoped>\n",
       "    .dataframe tbody tr th:only-of-type {\n",
       "        vertical-align: middle;\n",
       "    }\n",
       "\n",
       "    .dataframe tbody tr th {\n",
       "        vertical-align: top;\n",
       "    }\n",
       "\n",
       "    .dataframe thead th {\n",
       "        text-align: right;\n",
       "    }\n",
       "</style>\n",
       "<table border=\"1\" class=\"dataframe\">\n",
       "  <thead>\n",
       "    <tr style=\"text-align: right;\">\n",
       "      <th></th>\n",
       "      <th>tweet_id</th>\n",
       "      <th>in_reply_to_status_id</th>\n",
       "      <th>in_reply_to_user_id</th>\n",
       "      <th>timestamp</th>\n",
       "      <th>source</th>\n",
       "      <th>text</th>\n",
       "      <th>retweeted_status_id</th>\n",
       "      <th>retweeted_status_user_id</th>\n",
       "      <th>retweeted_status_timestamp</th>\n",
       "      <th>expanded_urls</th>\n",
       "      <th>rating_numerator</th>\n",
       "      <th>rating_denominator</th>\n",
       "      <th>name</th>\n",
       "      <th>doggo</th>\n",
       "      <th>floofer</th>\n",
       "      <th>pupper</th>\n",
       "      <th>puppo</th>\n",
       "    </tr>\n",
       "  </thead>\n",
       "  <tbody>\n",
       "    <tr>\n",
       "      <th>1183</th>\n",
       "      <td>718939241951195136</td>\n",
       "      <td>NaN</td>\n",
       "      <td>NaN</td>\n",
       "      <td>2016-04-09 23:10:47 +0000</td>\n",
       "      <td>&lt;a href=\"http://twitter.com/download/iphone\" r...</td>\n",
       "      <td>This is Otis. Everybody look at Otis. 12/10 wo...</td>\n",
       "      <td>NaN</td>\n",
       "      <td>NaN</td>\n",
       "      <td>NaN</td>\n",
       "      <td>https://twitter.com/dog_rates/status/718939241...</td>\n",
       "      <td>12</td>\n",
       "      <td>10</td>\n",
       "      <td>Otis</td>\n",
       "      <td>None</td>\n",
       "      <td>None</td>\n",
       "      <td>None</td>\n",
       "      <td>None</td>\n",
       "    </tr>\n",
       "    <tr>\n",
       "      <th>1035</th>\n",
       "      <td>744995568523612160</td>\n",
       "      <td>NaN</td>\n",
       "      <td>NaN</td>\n",
       "      <td>2016-06-20 20:49:19 +0000</td>\n",
       "      <td>&lt;a href=\"http://twitter.com/download/iphone\" r...</td>\n",
       "      <td>This is Abby. She got her face stuck in a glas...</td>\n",
       "      <td>NaN</td>\n",
       "      <td>NaN</td>\n",
       "      <td>NaN</td>\n",
       "      <td>https://twitter.com/dog_rates/status/744995568...</td>\n",
       "      <td>9</td>\n",
       "      <td>10</td>\n",
       "      <td>Abby</td>\n",
       "      <td>None</td>\n",
       "      <td>None</td>\n",
       "      <td>None</td>\n",
       "      <td>puppo</td>\n",
       "    </tr>\n",
       "    <tr>\n",
       "      <th>1591</th>\n",
       "      <td>686606069955735556</td>\n",
       "      <td>NaN</td>\n",
       "      <td>NaN</td>\n",
       "      <td>2016-01-11 17:50:18 +0000</td>\n",
       "      <td>&lt;a href=\"http://twitter.com/download/iphone\" r...</td>\n",
       "      <td>Meet Horace. He was practicing his levitation,...</td>\n",
       "      <td>NaN</td>\n",
       "      <td>NaN</td>\n",
       "      <td>NaN</td>\n",
       "      <td>https://twitter.com/dog_rates/status/686606069...</td>\n",
       "      <td>10</td>\n",
       "      <td>10</td>\n",
       "      <td>Horace</td>\n",
       "      <td>None</td>\n",
       "      <td>None</td>\n",
       "      <td>None</td>\n",
       "      <td>None</td>\n",
       "    </tr>\n",
       "    <tr>\n",
       "      <th>208</th>\n",
       "      <td>852311364735569921</td>\n",
       "      <td>NaN</td>\n",
       "      <td>NaN</td>\n",
       "      <td>2017-04-13 00:03:59 +0000</td>\n",
       "      <td>&lt;a href=\"http://twitter.com/download/iphone\" r...</td>\n",
       "      <td>This is Wiggles. She would like you to spot he...</td>\n",
       "      <td>NaN</td>\n",
       "      <td>NaN</td>\n",
       "      <td>NaN</td>\n",
       "      <td>https://twitter.com/dog_rates/status/852311364...</td>\n",
       "      <td>13</td>\n",
       "      <td>10</td>\n",
       "      <td>Wiggles</td>\n",
       "      <td>None</td>\n",
       "      <td>None</td>\n",
       "      <td>None</td>\n",
       "      <td>None</td>\n",
       "    </tr>\n",
       "    <tr>\n",
       "      <th>612</th>\n",
       "      <td>796904159865868288</td>\n",
       "      <td>NaN</td>\n",
       "      <td>NaN</td>\n",
       "      <td>2016-11-11 02:35:32 +0000</td>\n",
       "      <td>&lt;a href=\"http://twitter.com/download/iphone\" r...</td>\n",
       "      <td>RT @dog_rates: This is Tyrone. He's a leaf wiz...</td>\n",
       "      <td>6.873173e+17</td>\n",
       "      <td>4.196984e+09</td>\n",
       "      <td>2016-01-13 16:56:30 +0000</td>\n",
       "      <td>https://twitter.com/dog_rates/status/687317306...</td>\n",
       "      <td>11</td>\n",
       "      <td>10</td>\n",
       "      <td>Tyrone</td>\n",
       "      <td>None</td>\n",
       "      <td>None</td>\n",
       "      <td>None</td>\n",
       "      <td>None</td>\n",
       "    </tr>\n",
       "  </tbody>\n",
       "</table>\n",
       "</div>"
      ],
      "text/plain": [
       "                tweet_id  in_reply_to_status_id  in_reply_to_user_id  \\\n",
       "1183  718939241951195136                    NaN                  NaN   \n",
       "1035  744995568523612160                    NaN                  NaN   \n",
       "1591  686606069955735556                    NaN                  NaN   \n",
       "208   852311364735569921                    NaN                  NaN   \n",
       "612   796904159865868288                    NaN                  NaN   \n",
       "\n",
       "                      timestamp  \\\n",
       "1183  2016-04-09 23:10:47 +0000   \n",
       "1035  2016-06-20 20:49:19 +0000   \n",
       "1591  2016-01-11 17:50:18 +0000   \n",
       "208   2017-04-13 00:03:59 +0000   \n",
       "612   2016-11-11 02:35:32 +0000   \n",
       "\n",
       "                                                 source  \\\n",
       "1183  <a href=\"http://twitter.com/download/iphone\" r...   \n",
       "1035  <a href=\"http://twitter.com/download/iphone\" r...   \n",
       "1591  <a href=\"http://twitter.com/download/iphone\" r...   \n",
       "208   <a href=\"http://twitter.com/download/iphone\" r...   \n",
       "612   <a href=\"http://twitter.com/download/iphone\" r...   \n",
       "\n",
       "                                                   text  retweeted_status_id  \\\n",
       "1183  This is Otis. Everybody look at Otis. 12/10 wo...                  NaN   \n",
       "1035  This is Abby. She got her face stuck in a glas...                  NaN   \n",
       "1591  Meet Horace. He was practicing his levitation,...                  NaN   \n",
       "208   This is Wiggles. She would like you to spot he...                  NaN   \n",
       "612   RT @dog_rates: This is Tyrone. He's a leaf wiz...         6.873173e+17   \n",
       "\n",
       "      retweeted_status_user_id retweeted_status_timestamp  \\\n",
       "1183                       NaN                        NaN   \n",
       "1035                       NaN                        NaN   \n",
       "1591                       NaN                        NaN   \n",
       "208                        NaN                        NaN   \n",
       "612               4.196984e+09  2016-01-13 16:56:30 +0000   \n",
       "\n",
       "                                          expanded_urls  rating_numerator  \\\n",
       "1183  https://twitter.com/dog_rates/status/718939241...                12   \n",
       "1035  https://twitter.com/dog_rates/status/744995568...                 9   \n",
       "1591  https://twitter.com/dog_rates/status/686606069...                10   \n",
       "208   https://twitter.com/dog_rates/status/852311364...                13   \n",
       "612   https://twitter.com/dog_rates/status/687317306...                11   \n",
       "\n",
       "      rating_denominator     name doggo floofer pupper  puppo  \n",
       "1183                  10     Otis  None    None   None   None  \n",
       "1035                  10     Abby  None    None   None  puppo  \n",
       "1591                  10   Horace  None    None   None   None  \n",
       "208                   10  Wiggles  None    None   None   None  \n",
       "612                   10   Tyrone  None    None   None   None  "
      ]
     },
     "execution_count": 133,
     "metadata": {},
     "output_type": "execute_result"
    }
   ],
   "source": [
    "# checking 5 random rows in the dataframe\n",
    "twitter_archive_df.sample(5)"
   ]
  },
  {
   "cell_type": "markdown",
   "metadata": {},
   "source": [
    "#### Programmatic Assessment"
   ]
  },
  {
   "cell_type": "code",
   "execution_count": 9,
   "metadata": {},
   "outputs": [
    {
     "name": "stdout",
     "output_type": "stream",
     "text": [
      "<class 'pandas.core.frame.DataFrame'>\n",
      "RangeIndex: 2356 entries, 0 to 2355\n",
      "Data columns (total 17 columns):\n",
      " #   Column                      Non-Null Count  Dtype  \n",
      "---  ------                      --------------  -----  \n",
      " 0   tweet_id                    2356 non-null   int64  \n",
      " 1   in_reply_to_status_id       78 non-null     float64\n",
      " 2   in_reply_to_user_id         78 non-null     float64\n",
      " 3   timestamp                   2356 non-null   object \n",
      " 4   source                      2356 non-null   object \n",
      " 5   text                        2356 non-null   object \n",
      " 6   retweeted_status_id         181 non-null    float64\n",
      " 7   retweeted_status_user_id    181 non-null    float64\n",
      " 8   retweeted_status_timestamp  181 non-null    object \n",
      " 9   expanded_urls               2297 non-null   object \n",
      " 10  rating_numerator            2356 non-null   int64  \n",
      " 11  rating_denominator          2356 non-null   int64  \n",
      " 12  name                        2356 non-null   object \n",
      " 13  doggo                       2356 non-null   object \n",
      " 14  floofer                     2356 non-null   object \n",
      " 15  pupper                      2356 non-null   object \n",
      " 16  puppo                       2356 non-null   object \n",
      "dtypes: float64(4), int64(3), object(10)\n",
      "memory usage: 313.0+ KB\n"
     ]
    }
   ],
   "source": [
    "# get a general overview of the dataframe features.\n",
    "twitter_archive_df.info()"
   ]
  },
  {
   "cell_type": "code",
   "execution_count": 10,
   "metadata": {},
   "outputs": [
    {
     "data": {
      "text/plain": [
       "0"
      ]
     },
     "execution_count": 10,
     "metadata": {},
     "output_type": "execute_result"
    }
   ],
   "source": [
    "# check for number of duplicated rows\n",
    "twitter_archive_df.duplicated().sum()"
   ]
  },
  {
   "cell_type": "code",
   "execution_count": 11,
   "metadata": {},
   "outputs": [
    {
     "data": {
      "text/plain": [
       "0"
      ]
     },
     "execution_count": 11,
     "metadata": {},
     "output_type": "execute_result"
    }
   ],
   "source": [
    "# check for entries in the tweet_id column\n",
    "twitter_archive_df.tweet_id.duplicated().sum()"
   ]
  },
  {
   "cell_type": "code",
   "execution_count": 12,
   "metadata": {},
   "outputs": [
    {
     "data": {
      "text/plain": [
       "tweet_id                      2356\n",
       "in_reply_to_status_id           77\n",
       "in_reply_to_user_id             31\n",
       "timestamp                     2356\n",
       "source                           4\n",
       "text                          2356\n",
       "retweeted_status_id            181\n",
       "retweeted_status_user_id        25\n",
       "retweeted_status_timestamp     181\n",
       "expanded_urls                 2218\n",
       "rating_numerator                40\n",
       "rating_denominator              18\n",
       "name                           957\n",
       "doggo                            2\n",
       "floofer                          2\n",
       "pupper                           2\n",
       "puppo                            2\n",
       "dtype: int64"
      ]
     },
     "execution_count": 12,
     "metadata": {},
     "output_type": "execute_result"
    }
   ],
   "source": [
    "# check the number of unique elements in each column\n",
    "twitter_archive_df.nunique()"
   ]
  },
  {
   "cell_type": "code",
   "execution_count": 13,
   "metadata": {},
   "outputs": [
    {
     "data": {
      "text/plain": [
       "78"
      ]
     },
     "execution_count": 13,
     "metadata": {},
     "output_type": "execute_result"
    }
   ],
   "source": [
    "# check the number of retweets in the dataset\n",
    "twitter_archive_df.in_reply_to_status_id.count()"
   ]
  },
  {
   "cell_type": "code",
   "execution_count": 14,
   "metadata": {},
   "outputs": [
    {
     "data": {
      "text/plain": [
       "dtype('float64')"
      ]
     },
     "execution_count": 14,
     "metadata": {},
     "output_type": "execute_result"
    }
   ],
   "source": [
    "twitter_archive_df.in_reply_to_status_id.dtype"
   ]
  },
  {
   "cell_type": "code",
   "execution_count": 15,
   "metadata": {
    "scrolled": true
   },
   "outputs": [
    {
     "data": {
      "text/plain": [
       "<a href=\"http://twitter.com/download/iphone\" rel=\"nofollow\">Twitter for iPhone</a>     2221\n",
       "<a href=\"http://vine.co\" rel=\"nofollow\">Vine - Make a Scene</a>                          91\n",
       "<a href=\"http://twitter.com\" rel=\"nofollow\">Twitter Web Client</a>                       33\n",
       "<a href=\"https://about.twitter.com/products/tweetdeck\" rel=\"nofollow\">TweetDeck</a>      11\n",
       "Name: source, dtype: int64"
      ]
     },
     "execution_count": 15,
     "metadata": {},
     "output_type": "execute_result"
    }
   ],
   "source": [
    "# check the number of times each unique entry occurs in the source column\n",
    "twitter_archive_df.source.value_counts()"
   ]
  },
  {
   "cell_type": "code",
   "execution_count": 16,
   "metadata": {},
   "outputs": [
    {
     "data": {
      "text/html": [
       "<div>\n",
       "<style scoped>\n",
       "    .dataframe tbody tr th:only-of-type {\n",
       "        vertical-align: middle;\n",
       "    }\n",
       "\n",
       "    .dataframe tbody tr th {\n",
       "        vertical-align: top;\n",
       "    }\n",
       "\n",
       "    .dataframe thead th {\n",
       "        text-align: right;\n",
       "    }\n",
       "</style>\n",
       "<table border=\"1\" class=\"dataframe\">\n",
       "  <thead>\n",
       "    <tr style=\"text-align: right;\">\n",
       "      <th></th>\n",
       "      <th>tweet_id</th>\n",
       "      <th>in_reply_to_status_id</th>\n",
       "      <th>in_reply_to_user_id</th>\n",
       "      <th>retweeted_status_id</th>\n",
       "      <th>retweeted_status_user_id</th>\n",
       "      <th>rating_numerator</th>\n",
       "      <th>rating_denominator</th>\n",
       "    </tr>\n",
       "  </thead>\n",
       "  <tbody>\n",
       "    <tr>\n",
       "      <th>count</th>\n",
       "      <td>2.356000e+03</td>\n",
       "      <td>7.800000e+01</td>\n",
       "      <td>7.800000e+01</td>\n",
       "      <td>1.810000e+02</td>\n",
       "      <td>1.810000e+02</td>\n",
       "      <td>2356.000000</td>\n",
       "      <td>2356.000000</td>\n",
       "    </tr>\n",
       "    <tr>\n",
       "      <th>mean</th>\n",
       "      <td>7.427716e+17</td>\n",
       "      <td>7.455079e+17</td>\n",
       "      <td>2.014171e+16</td>\n",
       "      <td>7.720400e+17</td>\n",
       "      <td>1.241698e+16</td>\n",
       "      <td>13.126486</td>\n",
       "      <td>10.455433</td>\n",
       "    </tr>\n",
       "    <tr>\n",
       "      <th>std</th>\n",
       "      <td>6.856705e+16</td>\n",
       "      <td>7.582492e+16</td>\n",
       "      <td>1.252797e+17</td>\n",
       "      <td>6.236928e+16</td>\n",
       "      <td>9.599254e+16</td>\n",
       "      <td>45.876648</td>\n",
       "      <td>6.745237</td>\n",
       "    </tr>\n",
       "    <tr>\n",
       "      <th>min</th>\n",
       "      <td>6.660209e+17</td>\n",
       "      <td>6.658147e+17</td>\n",
       "      <td>1.185634e+07</td>\n",
       "      <td>6.661041e+17</td>\n",
       "      <td>7.832140e+05</td>\n",
       "      <td>0.000000</td>\n",
       "      <td>0.000000</td>\n",
       "    </tr>\n",
       "    <tr>\n",
       "      <th>25%</th>\n",
       "      <td>6.783989e+17</td>\n",
       "      <td>6.757419e+17</td>\n",
       "      <td>3.086374e+08</td>\n",
       "      <td>7.186315e+17</td>\n",
       "      <td>4.196984e+09</td>\n",
       "      <td>10.000000</td>\n",
       "      <td>10.000000</td>\n",
       "    </tr>\n",
       "    <tr>\n",
       "      <th>50%</th>\n",
       "      <td>7.196279e+17</td>\n",
       "      <td>7.038708e+17</td>\n",
       "      <td>4.196984e+09</td>\n",
       "      <td>7.804657e+17</td>\n",
       "      <td>4.196984e+09</td>\n",
       "      <td>11.000000</td>\n",
       "      <td>10.000000</td>\n",
       "    </tr>\n",
       "    <tr>\n",
       "      <th>75%</th>\n",
       "      <td>7.993373e+17</td>\n",
       "      <td>8.257804e+17</td>\n",
       "      <td>4.196984e+09</td>\n",
       "      <td>8.203146e+17</td>\n",
       "      <td>4.196984e+09</td>\n",
       "      <td>12.000000</td>\n",
       "      <td>10.000000</td>\n",
       "    </tr>\n",
       "    <tr>\n",
       "      <th>max</th>\n",
       "      <td>8.924206e+17</td>\n",
       "      <td>8.862664e+17</td>\n",
       "      <td>8.405479e+17</td>\n",
       "      <td>8.874740e+17</td>\n",
       "      <td>7.874618e+17</td>\n",
       "      <td>1776.000000</td>\n",
       "      <td>170.000000</td>\n",
       "    </tr>\n",
       "  </tbody>\n",
       "</table>\n",
       "</div>"
      ],
      "text/plain": [
       "           tweet_id  in_reply_to_status_id  in_reply_to_user_id  \\\n",
       "count  2.356000e+03           7.800000e+01         7.800000e+01   \n",
       "mean   7.427716e+17           7.455079e+17         2.014171e+16   \n",
       "std    6.856705e+16           7.582492e+16         1.252797e+17   \n",
       "min    6.660209e+17           6.658147e+17         1.185634e+07   \n",
       "25%    6.783989e+17           6.757419e+17         3.086374e+08   \n",
       "50%    7.196279e+17           7.038708e+17         4.196984e+09   \n",
       "75%    7.993373e+17           8.257804e+17         4.196984e+09   \n",
       "max    8.924206e+17           8.862664e+17         8.405479e+17   \n",
       "\n",
       "       retweeted_status_id  retweeted_status_user_id  rating_numerator  \\\n",
       "count         1.810000e+02              1.810000e+02       2356.000000   \n",
       "mean          7.720400e+17              1.241698e+16         13.126486   \n",
       "std           6.236928e+16              9.599254e+16         45.876648   \n",
       "min           6.661041e+17              7.832140e+05          0.000000   \n",
       "25%           7.186315e+17              4.196984e+09         10.000000   \n",
       "50%           7.804657e+17              4.196984e+09         11.000000   \n",
       "75%           8.203146e+17              4.196984e+09         12.000000   \n",
       "max           8.874740e+17              7.874618e+17       1776.000000   \n",
       "\n",
       "       rating_denominator  \n",
       "count         2356.000000  \n",
       "mean            10.455433  \n",
       "std              6.745237  \n",
       "min              0.000000  \n",
       "25%             10.000000  \n",
       "50%             10.000000  \n",
       "75%             10.000000  \n",
       "max            170.000000  "
      ]
     },
     "execution_count": 16,
     "metadata": {},
     "output_type": "execute_result"
    }
   ],
   "source": [
    "# view descriptive statistics for each feature in the twitter_archive table\n",
    "twitter_archive_df.describe()"
   ]
  },
  {
   "cell_type": "code",
   "execution_count": 17,
   "metadata": {},
   "outputs": [
    {
     "data": {
      "text/plain": [
       "12      558\n",
       "11      464\n",
       "10      461\n",
       "13      351\n",
       "9       158\n",
       "8       102\n",
       "7        55\n",
       "14       54\n",
       "5        37\n",
       "6        32\n",
       "3        19\n",
       "4        17\n",
       "2         9\n",
       "1         9\n",
       "75        2\n",
       "15        2\n",
       "420       2\n",
       "0         2\n",
       "80        1\n",
       "144       1\n",
       "17        1\n",
       "26        1\n",
       "20        1\n",
       "121       1\n",
       "143       1\n",
       "44        1\n",
       "60        1\n",
       "45        1\n",
       "50        1\n",
       "99        1\n",
       "204       1\n",
       "1776      1\n",
       "165       1\n",
       "666       1\n",
       "27        1\n",
       "182       1\n",
       "24        1\n",
       "960       1\n",
       "84        1\n",
       "88        1\n",
       "Name: rating_numerator, dtype: int64"
      ]
     },
     "execution_count": 17,
     "metadata": {},
     "output_type": "execute_result"
    }
   ],
   "source": [
    "twitter_archive_df.rating_numerator.value_counts()"
   ]
  },
  {
   "cell_type": "markdown",
   "metadata": {},
   "source": [
    "### Accessing Image Prediction Dataframe\n",
    "\n",
    "#### Visual Assessment"
   ]
  },
  {
   "cell_type": "code",
   "execution_count": 18,
   "metadata": {},
   "outputs": [
    {
     "data": {
      "text/html": [
       "<div>\n",
       "<style scoped>\n",
       "    .dataframe tbody tr th:only-of-type {\n",
       "        vertical-align: middle;\n",
       "    }\n",
       "\n",
       "    .dataframe tbody tr th {\n",
       "        vertical-align: top;\n",
       "    }\n",
       "\n",
       "    .dataframe thead th {\n",
       "        text-align: right;\n",
       "    }\n",
       "</style>\n",
       "<table border=\"1\" class=\"dataframe\">\n",
       "  <thead>\n",
       "    <tr style=\"text-align: right;\">\n",
       "      <th></th>\n",
       "      <th>tweet_id</th>\n",
       "      <th>jpg_url</th>\n",
       "      <th>img_num</th>\n",
       "      <th>p1</th>\n",
       "      <th>p1_conf</th>\n",
       "      <th>p1_dog</th>\n",
       "      <th>p2</th>\n",
       "      <th>p2_conf</th>\n",
       "      <th>p2_dog</th>\n",
       "      <th>p3</th>\n",
       "      <th>p3_conf</th>\n",
       "      <th>p3_dog</th>\n",
       "    </tr>\n",
       "  </thead>\n",
       "  <tbody>\n",
       "    <tr>\n",
       "      <th>0</th>\n",
       "      <td>666020888022790149</td>\n",
       "      <td>https://pbs.twimg.com/media/CT4udn0WwAA0aMy.jpg</td>\n",
       "      <td>1</td>\n",
       "      <td>Welsh_springer_spaniel</td>\n",
       "      <td>0.465074</td>\n",
       "      <td>True</td>\n",
       "      <td>collie</td>\n",
       "      <td>0.156665</td>\n",
       "      <td>True</td>\n",
       "      <td>Shetland_sheepdog</td>\n",
       "      <td>0.061428</td>\n",
       "      <td>True</td>\n",
       "    </tr>\n",
       "    <tr>\n",
       "      <th>1</th>\n",
       "      <td>666029285002620928</td>\n",
       "      <td>https://pbs.twimg.com/media/CT42GRgUYAA5iDo.jpg</td>\n",
       "      <td>1</td>\n",
       "      <td>redbone</td>\n",
       "      <td>0.506826</td>\n",
       "      <td>True</td>\n",
       "      <td>miniature_pinscher</td>\n",
       "      <td>0.074192</td>\n",
       "      <td>True</td>\n",
       "      <td>Rhodesian_ridgeback</td>\n",
       "      <td>0.072010</td>\n",
       "      <td>True</td>\n",
       "    </tr>\n",
       "    <tr>\n",
       "      <th>2</th>\n",
       "      <td>666033412701032449</td>\n",
       "      <td>https://pbs.twimg.com/media/CT4521TWwAEvMyu.jpg</td>\n",
       "      <td>1</td>\n",
       "      <td>German_shepherd</td>\n",
       "      <td>0.596461</td>\n",
       "      <td>True</td>\n",
       "      <td>malinois</td>\n",
       "      <td>0.138584</td>\n",
       "      <td>True</td>\n",
       "      <td>bloodhound</td>\n",
       "      <td>0.116197</td>\n",
       "      <td>True</td>\n",
       "    </tr>\n",
       "    <tr>\n",
       "      <th>3</th>\n",
       "      <td>666044226329800704</td>\n",
       "      <td>https://pbs.twimg.com/media/CT5Dr8HUEAA-lEu.jpg</td>\n",
       "      <td>1</td>\n",
       "      <td>Rhodesian_ridgeback</td>\n",
       "      <td>0.408143</td>\n",
       "      <td>True</td>\n",
       "      <td>redbone</td>\n",
       "      <td>0.360687</td>\n",
       "      <td>True</td>\n",
       "      <td>miniature_pinscher</td>\n",
       "      <td>0.222752</td>\n",
       "      <td>True</td>\n",
       "    </tr>\n",
       "    <tr>\n",
       "      <th>4</th>\n",
       "      <td>666049248165822465</td>\n",
       "      <td>https://pbs.twimg.com/media/CT5IQmsXIAAKY4A.jpg</td>\n",
       "      <td>1</td>\n",
       "      <td>miniature_pinscher</td>\n",
       "      <td>0.560311</td>\n",
       "      <td>True</td>\n",
       "      <td>Rottweiler</td>\n",
       "      <td>0.243682</td>\n",
       "      <td>True</td>\n",
       "      <td>Doberman</td>\n",
       "      <td>0.154629</td>\n",
       "      <td>True</td>\n",
       "    </tr>\n",
       "    <tr>\n",
       "      <th>...</th>\n",
       "      <td>...</td>\n",
       "      <td>...</td>\n",
       "      <td>...</td>\n",
       "      <td>...</td>\n",
       "      <td>...</td>\n",
       "      <td>...</td>\n",
       "      <td>...</td>\n",
       "      <td>...</td>\n",
       "      <td>...</td>\n",
       "      <td>...</td>\n",
       "      <td>...</td>\n",
       "      <td>...</td>\n",
       "    </tr>\n",
       "    <tr>\n",
       "      <th>2070</th>\n",
       "      <td>891327558926688256</td>\n",
       "      <td>https://pbs.twimg.com/media/DF6hr6BUMAAzZgT.jpg</td>\n",
       "      <td>2</td>\n",
       "      <td>basset</td>\n",
       "      <td>0.555712</td>\n",
       "      <td>True</td>\n",
       "      <td>English_springer</td>\n",
       "      <td>0.225770</td>\n",
       "      <td>True</td>\n",
       "      <td>German_short-haired_pointer</td>\n",
       "      <td>0.175219</td>\n",
       "      <td>True</td>\n",
       "    </tr>\n",
       "    <tr>\n",
       "      <th>2071</th>\n",
       "      <td>891689557279858688</td>\n",
       "      <td>https://pbs.twimg.com/media/DF_q7IAWsAEuuN8.jpg</td>\n",
       "      <td>1</td>\n",
       "      <td>paper_towel</td>\n",
       "      <td>0.170278</td>\n",
       "      <td>False</td>\n",
       "      <td>Labrador_retriever</td>\n",
       "      <td>0.168086</td>\n",
       "      <td>True</td>\n",
       "      <td>spatula</td>\n",
       "      <td>0.040836</td>\n",
       "      <td>False</td>\n",
       "    </tr>\n",
       "    <tr>\n",
       "      <th>2072</th>\n",
       "      <td>891815181378084864</td>\n",
       "      <td>https://pbs.twimg.com/media/DGBdLU1WsAANxJ9.jpg</td>\n",
       "      <td>1</td>\n",
       "      <td>Chihuahua</td>\n",
       "      <td>0.716012</td>\n",
       "      <td>True</td>\n",
       "      <td>malamute</td>\n",
       "      <td>0.078253</td>\n",
       "      <td>True</td>\n",
       "      <td>kelpie</td>\n",
       "      <td>0.031379</td>\n",
       "      <td>True</td>\n",
       "    </tr>\n",
       "    <tr>\n",
       "      <th>2073</th>\n",
       "      <td>892177421306343426</td>\n",
       "      <td>https://pbs.twimg.com/media/DGGmoV4XsAAUL6n.jpg</td>\n",
       "      <td>1</td>\n",
       "      <td>Chihuahua</td>\n",
       "      <td>0.323581</td>\n",
       "      <td>True</td>\n",
       "      <td>Pekinese</td>\n",
       "      <td>0.090647</td>\n",
       "      <td>True</td>\n",
       "      <td>papillon</td>\n",
       "      <td>0.068957</td>\n",
       "      <td>True</td>\n",
       "    </tr>\n",
       "    <tr>\n",
       "      <th>2074</th>\n",
       "      <td>892420643555336193</td>\n",
       "      <td>https://pbs.twimg.com/media/DGKD1-bXoAAIAUK.jpg</td>\n",
       "      <td>1</td>\n",
       "      <td>orange</td>\n",
       "      <td>0.097049</td>\n",
       "      <td>False</td>\n",
       "      <td>bagel</td>\n",
       "      <td>0.085851</td>\n",
       "      <td>False</td>\n",
       "      <td>banana</td>\n",
       "      <td>0.076110</td>\n",
       "      <td>False</td>\n",
       "    </tr>\n",
       "  </tbody>\n",
       "</table>\n",
       "<p>2075 rows × 12 columns</p>\n",
       "</div>"
      ],
      "text/plain": [
       "                tweet_id                                          jpg_url  \\\n",
       "0     666020888022790149  https://pbs.twimg.com/media/CT4udn0WwAA0aMy.jpg   \n",
       "1     666029285002620928  https://pbs.twimg.com/media/CT42GRgUYAA5iDo.jpg   \n",
       "2     666033412701032449  https://pbs.twimg.com/media/CT4521TWwAEvMyu.jpg   \n",
       "3     666044226329800704  https://pbs.twimg.com/media/CT5Dr8HUEAA-lEu.jpg   \n",
       "4     666049248165822465  https://pbs.twimg.com/media/CT5IQmsXIAAKY4A.jpg   \n",
       "...                  ...                                              ...   \n",
       "2070  891327558926688256  https://pbs.twimg.com/media/DF6hr6BUMAAzZgT.jpg   \n",
       "2071  891689557279858688  https://pbs.twimg.com/media/DF_q7IAWsAEuuN8.jpg   \n",
       "2072  891815181378084864  https://pbs.twimg.com/media/DGBdLU1WsAANxJ9.jpg   \n",
       "2073  892177421306343426  https://pbs.twimg.com/media/DGGmoV4XsAAUL6n.jpg   \n",
       "2074  892420643555336193  https://pbs.twimg.com/media/DGKD1-bXoAAIAUK.jpg   \n",
       "\n",
       "      img_num                      p1   p1_conf  p1_dog                  p2  \\\n",
       "0           1  Welsh_springer_spaniel  0.465074    True              collie   \n",
       "1           1                 redbone  0.506826    True  miniature_pinscher   \n",
       "2           1         German_shepherd  0.596461    True            malinois   \n",
       "3           1     Rhodesian_ridgeback  0.408143    True             redbone   \n",
       "4           1      miniature_pinscher  0.560311    True          Rottweiler   \n",
       "...       ...                     ...       ...     ...                 ...   \n",
       "2070        2                  basset  0.555712    True    English_springer   \n",
       "2071        1             paper_towel  0.170278   False  Labrador_retriever   \n",
       "2072        1               Chihuahua  0.716012    True            malamute   \n",
       "2073        1               Chihuahua  0.323581    True            Pekinese   \n",
       "2074        1                  orange  0.097049   False               bagel   \n",
       "\n",
       "       p2_conf  p2_dog                           p3   p3_conf  p3_dog  \n",
       "0     0.156665    True            Shetland_sheepdog  0.061428    True  \n",
       "1     0.074192    True          Rhodesian_ridgeback  0.072010    True  \n",
       "2     0.138584    True                   bloodhound  0.116197    True  \n",
       "3     0.360687    True           miniature_pinscher  0.222752    True  \n",
       "4     0.243682    True                     Doberman  0.154629    True  \n",
       "...        ...     ...                          ...       ...     ...  \n",
       "2070  0.225770    True  German_short-haired_pointer  0.175219    True  \n",
       "2071  0.168086    True                      spatula  0.040836   False  \n",
       "2072  0.078253    True                       kelpie  0.031379    True  \n",
       "2073  0.090647    True                     papillon  0.068957    True  \n",
       "2074  0.085851   False                       banana  0.076110   False  \n",
       "\n",
       "[2075 rows x 12 columns]"
      ]
     },
     "execution_count": 18,
     "metadata": {},
     "output_type": "execute_result"
    }
   ],
   "source": [
    "# checking the top 5 and bottom 5 rows of the dataframe for data quality and tidiness issues\n",
    "image_predictions_df"
   ]
  },
  {
   "cell_type": "code",
   "execution_count": 19,
   "metadata": {},
   "outputs": [
    {
     "data": {
      "text/html": [
       "<div>\n",
       "<style scoped>\n",
       "    .dataframe tbody tr th:only-of-type {\n",
       "        vertical-align: middle;\n",
       "    }\n",
       "\n",
       "    .dataframe tbody tr th {\n",
       "        vertical-align: top;\n",
       "    }\n",
       "\n",
       "    .dataframe thead th {\n",
       "        text-align: right;\n",
       "    }\n",
       "</style>\n",
       "<table border=\"1\" class=\"dataframe\">\n",
       "  <thead>\n",
       "    <tr style=\"text-align: right;\">\n",
       "      <th></th>\n",
       "      <th>tweet_id</th>\n",
       "      <th>jpg_url</th>\n",
       "      <th>img_num</th>\n",
       "      <th>p1</th>\n",
       "      <th>p1_conf</th>\n",
       "      <th>p1_dog</th>\n",
       "      <th>p2</th>\n",
       "      <th>p2_conf</th>\n",
       "      <th>p2_dog</th>\n",
       "      <th>p3</th>\n",
       "      <th>p3_conf</th>\n",
       "      <th>p3_dog</th>\n",
       "    </tr>\n",
       "  </thead>\n",
       "  <tbody>\n",
       "    <tr>\n",
       "      <th>2034</th>\n",
       "      <td>883838122936631299</td>\n",
       "      <td>https://pbs.twimg.com/media/DEQGFgAXUAAEvfi.jpg</td>\n",
       "      <td>1</td>\n",
       "      <td>Doberman</td>\n",
       "      <td>0.610946</td>\n",
       "      <td>True</td>\n",
       "      <td>miniature_pinscher</td>\n",
       "      <td>0.299603</td>\n",
       "      <td>True</td>\n",
       "      <td>kelpie</td>\n",
       "      <td>0.063020</td>\n",
       "      <td>True</td>\n",
       "    </tr>\n",
       "    <tr>\n",
       "      <th>1744</th>\n",
       "      <td>822872901745569793</td>\n",
       "      <td>https://pbs.twimg.com/media/C2tugXLXgAArJO4.jpg</td>\n",
       "      <td>1</td>\n",
       "      <td>Lakeland_terrier</td>\n",
       "      <td>0.196015</td>\n",
       "      <td>True</td>\n",
       "      <td>Labrador_retriever</td>\n",
       "      <td>0.160329</td>\n",
       "      <td>True</td>\n",
       "      <td>Irish_terrier</td>\n",
       "      <td>0.069126</td>\n",
       "      <td>True</td>\n",
       "    </tr>\n",
       "    <tr>\n",
       "      <th>1672</th>\n",
       "      <td>813112105746448384</td>\n",
       "      <td>https://pbs.twimg.com/media/C0jBJZVWQAA2_-X.jpg</td>\n",
       "      <td>1</td>\n",
       "      <td>dingo</td>\n",
       "      <td>0.287369</td>\n",
       "      <td>False</td>\n",
       "      <td>Pembroke</td>\n",
       "      <td>0.140682</td>\n",
       "      <td>True</td>\n",
       "      <td>basenji</td>\n",
       "      <td>0.090819</td>\n",
       "      <td>True</td>\n",
       "    </tr>\n",
       "    <tr>\n",
       "      <th>699</th>\n",
       "      <td>684594889858887680</td>\n",
       "      <td>https://pbs.twimg.com/media/CYAra7JWsAACPZH.jpg</td>\n",
       "      <td>1</td>\n",
       "      <td>Weimaraner</td>\n",
       "      <td>0.948688</td>\n",
       "      <td>True</td>\n",
       "      <td>English_setter</td>\n",
       "      <td>0.035352</td>\n",
       "      <td>True</td>\n",
       "      <td>Brittany_spaniel</td>\n",
       "      <td>0.003879</td>\n",
       "      <td>True</td>\n",
       "    </tr>\n",
       "    <tr>\n",
       "      <th>603</th>\n",
       "      <td>679844490799091713</td>\n",
       "      <td>https://pbs.twimg.com/media/CW9K9VeVAAE0j-x.jpg</td>\n",
       "      <td>1</td>\n",
       "      <td>Airedale</td>\n",
       "      <td>0.903832</td>\n",
       "      <td>True</td>\n",
       "      <td>Border_terrier</td>\n",
       "      <td>0.034713</td>\n",
       "      <td>True</td>\n",
       "      <td>toy_poodle</td>\n",
       "      <td>0.021378</td>\n",
       "      <td>True</td>\n",
       "    </tr>\n",
       "    <tr>\n",
       "      <th>247</th>\n",
       "      <td>670668383499735048</td>\n",
       "      <td>https://pbs.twimg.com/media/CU6xVkbWsAAeHeU.jpg</td>\n",
       "      <td>1</td>\n",
       "      <td>banana</td>\n",
       "      <td>0.107317</td>\n",
       "      <td>False</td>\n",
       "      <td>orange</td>\n",
       "      <td>0.099662</td>\n",
       "      <td>False</td>\n",
       "      <td>bagel</td>\n",
       "      <td>0.089033</td>\n",
       "      <td>False</td>\n",
       "    </tr>\n",
       "    <tr>\n",
       "      <th>53</th>\n",
       "      <td>667012601033924608</td>\n",
       "      <td>https://pbs.twimg.com/media/CUG0bC0U8AAw2su.jpg</td>\n",
       "      <td>1</td>\n",
       "      <td>hyena</td>\n",
       "      <td>0.987230</td>\n",
       "      <td>False</td>\n",
       "      <td>African_hunting_dog</td>\n",
       "      <td>0.012601</td>\n",
       "      <td>False</td>\n",
       "      <td>coyote</td>\n",
       "      <td>0.000057</td>\n",
       "      <td>False</td>\n",
       "    </tr>\n",
       "    <tr>\n",
       "      <th>312</th>\n",
       "      <td>671547767500775424</td>\n",
       "      <td>https://pbs.twimg.com/media/CVHRIiqWEAAj98K.jpg</td>\n",
       "      <td>2</td>\n",
       "      <td>Loafer</td>\n",
       "      <td>0.255088</td>\n",
       "      <td>False</td>\n",
       "      <td>platypus</td>\n",
       "      <td>0.090019</td>\n",
       "      <td>False</td>\n",
       "      <td>cowboy_boot</td>\n",
       "      <td>0.066536</td>\n",
       "      <td>False</td>\n",
       "    </tr>\n",
       "    <tr>\n",
       "      <th>1560</th>\n",
       "      <td>793271401113350145</td>\n",
       "      <td>https://pbs.twimg.com/media/CwJEIKTWYAAvL-T.jpg</td>\n",
       "      <td>1</td>\n",
       "      <td>Siberian_husky</td>\n",
       "      <td>0.231695</td>\n",
       "      <td>True</td>\n",
       "      <td>Eskimo_dog</td>\n",
       "      <td>0.206749</td>\n",
       "      <td>True</td>\n",
       "      <td>Pembroke</td>\n",
       "      <td>0.070120</td>\n",
       "      <td>True</td>\n",
       "    </tr>\n",
       "    <tr>\n",
       "      <th>189</th>\n",
       "      <td>669375718304980992</td>\n",
       "      <td>https://pbs.twimg.com/media/CUoZqaqWcAAA2MQ.jpg</td>\n",
       "      <td>1</td>\n",
       "      <td>Airedale</td>\n",
       "      <td>0.168762</td>\n",
       "      <td>True</td>\n",
       "      <td>Norfolk_terrier</td>\n",
       "      <td>0.107479</td>\n",
       "      <td>True</td>\n",
       "      <td>Lakeland_terrier</td>\n",
       "      <td>0.097846</td>\n",
       "      <td>True</td>\n",
       "    </tr>\n",
       "  </tbody>\n",
       "</table>\n",
       "</div>"
      ],
      "text/plain": [
       "                tweet_id                                          jpg_url  \\\n",
       "2034  883838122936631299  https://pbs.twimg.com/media/DEQGFgAXUAAEvfi.jpg   \n",
       "1744  822872901745569793  https://pbs.twimg.com/media/C2tugXLXgAArJO4.jpg   \n",
       "1672  813112105746448384  https://pbs.twimg.com/media/C0jBJZVWQAA2_-X.jpg   \n",
       "699   684594889858887680  https://pbs.twimg.com/media/CYAra7JWsAACPZH.jpg   \n",
       "603   679844490799091713  https://pbs.twimg.com/media/CW9K9VeVAAE0j-x.jpg   \n",
       "247   670668383499735048  https://pbs.twimg.com/media/CU6xVkbWsAAeHeU.jpg   \n",
       "53    667012601033924608  https://pbs.twimg.com/media/CUG0bC0U8AAw2su.jpg   \n",
       "312   671547767500775424  https://pbs.twimg.com/media/CVHRIiqWEAAj98K.jpg   \n",
       "1560  793271401113350145  https://pbs.twimg.com/media/CwJEIKTWYAAvL-T.jpg   \n",
       "189   669375718304980992  https://pbs.twimg.com/media/CUoZqaqWcAAA2MQ.jpg   \n",
       "\n",
       "      img_num                p1   p1_conf  p1_dog                   p2  \\\n",
       "2034        1          Doberman  0.610946    True   miniature_pinscher   \n",
       "1744        1  Lakeland_terrier  0.196015    True   Labrador_retriever   \n",
       "1672        1             dingo  0.287369   False             Pembroke   \n",
       "699         1        Weimaraner  0.948688    True       English_setter   \n",
       "603         1          Airedale  0.903832    True       Border_terrier   \n",
       "247         1            banana  0.107317   False               orange   \n",
       "53          1             hyena  0.987230   False  African_hunting_dog   \n",
       "312         2            Loafer  0.255088   False             platypus   \n",
       "1560        1    Siberian_husky  0.231695    True           Eskimo_dog   \n",
       "189         1          Airedale  0.168762    True      Norfolk_terrier   \n",
       "\n",
       "       p2_conf  p2_dog                p3   p3_conf  p3_dog  \n",
       "2034  0.299603    True            kelpie  0.063020    True  \n",
       "1744  0.160329    True     Irish_terrier  0.069126    True  \n",
       "1672  0.140682    True           basenji  0.090819    True  \n",
       "699   0.035352    True  Brittany_spaniel  0.003879    True  \n",
       "603   0.034713    True        toy_poodle  0.021378    True  \n",
       "247   0.099662   False             bagel  0.089033   False  \n",
       "53    0.012601   False            coyote  0.000057   False  \n",
       "312   0.090019   False       cowboy_boot  0.066536   False  \n",
       "1560  0.206749    True          Pembroke  0.070120    True  \n",
       "189   0.107479    True  Lakeland_terrier  0.097846    True  "
      ]
     },
     "execution_count": 19,
     "metadata": {},
     "output_type": "execute_result"
    }
   ],
   "source": [
    "# checking 5 random rows in the dataframe\n",
    "image_predictions_df.sample(10)"
   ]
  },
  {
   "cell_type": "markdown",
   "metadata": {},
   "source": [
    "#### Programmatic Assessment"
   ]
  },
  {
   "cell_type": "code",
   "execution_count": 20,
   "metadata": {},
   "outputs": [
    {
     "name": "stdout",
     "output_type": "stream",
     "text": [
      "<class 'pandas.core.frame.DataFrame'>\n",
      "RangeIndex: 2075 entries, 0 to 2074\n",
      "Data columns (total 12 columns):\n",
      " #   Column    Non-Null Count  Dtype  \n",
      "---  ------    --------------  -----  \n",
      " 0   tweet_id  2075 non-null   int64  \n",
      " 1   jpg_url   2075 non-null   object \n",
      " 2   img_num   2075 non-null   int64  \n",
      " 3   p1        2075 non-null   object \n",
      " 4   p1_conf   2075 non-null   float64\n",
      " 5   p1_dog    2075 non-null   bool   \n",
      " 6   p2        2075 non-null   object \n",
      " 7   p2_conf   2075 non-null   float64\n",
      " 8   p2_dog    2075 non-null   bool   \n",
      " 9   p3        2075 non-null   object \n",
      " 10  p3_conf   2075 non-null   float64\n",
      " 11  p3_dog    2075 non-null   bool   \n",
      "dtypes: bool(3), float64(3), int64(2), object(4)\n",
      "memory usage: 152.1+ KB\n"
     ]
    }
   ],
   "source": [
    "image_predictions_df.info()"
   ]
  },
  {
   "cell_type": "code",
   "execution_count": 21,
   "metadata": {
    "scrolled": true
   },
   "outputs": [
    {
     "data": {
      "text/html": [
       "<div>\n",
       "<style scoped>\n",
       "    .dataframe tbody tr th:only-of-type {\n",
       "        vertical-align: middle;\n",
       "    }\n",
       "\n",
       "    .dataframe tbody tr th {\n",
       "        vertical-align: top;\n",
       "    }\n",
       "\n",
       "    .dataframe thead th {\n",
       "        text-align: right;\n",
       "    }\n",
       "</style>\n",
       "<table border=\"1\" class=\"dataframe\">\n",
       "  <thead>\n",
       "    <tr style=\"text-align: right;\">\n",
       "      <th></th>\n",
       "      <th>tweet_id</th>\n",
       "      <th>img_num</th>\n",
       "      <th>p1_conf</th>\n",
       "      <th>p2_conf</th>\n",
       "      <th>p3_conf</th>\n",
       "    </tr>\n",
       "  </thead>\n",
       "  <tbody>\n",
       "    <tr>\n",
       "      <th>count</th>\n",
       "      <td>2.075000e+03</td>\n",
       "      <td>2075.000000</td>\n",
       "      <td>2075.000000</td>\n",
       "      <td>2.075000e+03</td>\n",
       "      <td>2.075000e+03</td>\n",
       "    </tr>\n",
       "    <tr>\n",
       "      <th>mean</th>\n",
       "      <td>7.384514e+17</td>\n",
       "      <td>1.203855</td>\n",
       "      <td>0.594548</td>\n",
       "      <td>1.345886e-01</td>\n",
       "      <td>6.032417e-02</td>\n",
       "    </tr>\n",
       "    <tr>\n",
       "      <th>std</th>\n",
       "      <td>6.785203e+16</td>\n",
       "      <td>0.561875</td>\n",
       "      <td>0.271174</td>\n",
       "      <td>1.006657e-01</td>\n",
       "      <td>5.090593e-02</td>\n",
       "    </tr>\n",
       "    <tr>\n",
       "      <th>min</th>\n",
       "      <td>6.660209e+17</td>\n",
       "      <td>1.000000</td>\n",
       "      <td>0.044333</td>\n",
       "      <td>1.011300e-08</td>\n",
       "      <td>1.740170e-10</td>\n",
       "    </tr>\n",
       "    <tr>\n",
       "      <th>25%</th>\n",
       "      <td>6.764835e+17</td>\n",
       "      <td>1.000000</td>\n",
       "      <td>0.364412</td>\n",
       "      <td>5.388625e-02</td>\n",
       "      <td>1.622240e-02</td>\n",
       "    </tr>\n",
       "    <tr>\n",
       "      <th>50%</th>\n",
       "      <td>7.119988e+17</td>\n",
       "      <td>1.000000</td>\n",
       "      <td>0.588230</td>\n",
       "      <td>1.181810e-01</td>\n",
       "      <td>4.944380e-02</td>\n",
       "    </tr>\n",
       "    <tr>\n",
       "      <th>75%</th>\n",
       "      <td>7.932034e+17</td>\n",
       "      <td>1.000000</td>\n",
       "      <td>0.843855</td>\n",
       "      <td>1.955655e-01</td>\n",
       "      <td>9.180755e-02</td>\n",
       "    </tr>\n",
       "    <tr>\n",
       "      <th>max</th>\n",
       "      <td>8.924206e+17</td>\n",
       "      <td>4.000000</td>\n",
       "      <td>1.000000</td>\n",
       "      <td>4.880140e-01</td>\n",
       "      <td>2.734190e-01</td>\n",
       "    </tr>\n",
       "  </tbody>\n",
       "</table>\n",
       "</div>"
      ],
      "text/plain": [
       "           tweet_id      img_num      p1_conf       p2_conf       p3_conf\n",
       "count  2.075000e+03  2075.000000  2075.000000  2.075000e+03  2.075000e+03\n",
       "mean   7.384514e+17     1.203855     0.594548  1.345886e-01  6.032417e-02\n",
       "std    6.785203e+16     0.561875     0.271174  1.006657e-01  5.090593e-02\n",
       "min    6.660209e+17     1.000000     0.044333  1.011300e-08  1.740170e-10\n",
       "25%    6.764835e+17     1.000000     0.364412  5.388625e-02  1.622240e-02\n",
       "50%    7.119988e+17     1.000000     0.588230  1.181810e-01  4.944380e-02\n",
       "75%    7.932034e+17     1.000000     0.843855  1.955655e-01  9.180755e-02\n",
       "max    8.924206e+17     4.000000     1.000000  4.880140e-01  2.734190e-01"
      ]
     },
     "execution_count": 21,
     "metadata": {},
     "output_type": "execute_result"
    }
   ],
   "source": [
    "# general descriptive statistics of the dataframe\n",
    "image_predictions_df.describe()"
   ]
  },
  {
   "cell_type": "code",
   "execution_count": 22,
   "metadata": {
    "scrolled": true
   },
   "outputs": [
    {
     "data": {
      "text/plain": [
       "tweet_id    2075\n",
       "jpg_url     2009\n",
       "img_num        4\n",
       "p1           378\n",
       "p1_conf     2006\n",
       "p1_dog         2\n",
       "p2           405\n",
       "p2_conf     2004\n",
       "p2_dog         2\n",
       "p3           408\n",
       "p3_conf     2006\n",
       "p3_dog         2\n",
       "dtype: int64"
      ]
     },
     "execution_count": 22,
     "metadata": {},
     "output_type": "execute_result"
    }
   ],
   "source": [
    "image_predictions_df.nunique()"
   ]
  },
  {
   "cell_type": "code",
   "execution_count": 24,
   "metadata": {},
   "outputs": [
    {
     "data": {
      "text/plain": [
       "1    1780\n",
       "2     198\n",
       "3      66\n",
       "4      31\n",
       "Name: img_num, dtype: int64"
      ]
     },
     "execution_count": 24,
     "metadata": {},
     "output_type": "execute_result"
    }
   ],
   "source": [
    "# check the distribution of the unique values for the img_num value\n",
    "image_predictions_df.img_num.value_counts()"
   ]
  },
  {
   "cell_type": "code",
   "execution_count": 25,
   "metadata": {
    "scrolled": true
   },
   "outputs": [
    {
     "data": {
      "text/plain": [
       "array(['Welsh_springer_spaniel', 'redbone', 'German_shepherd',\n",
       "       'Rhodesian_ridgeback', 'miniature_pinscher',\n",
       "       'Bernese_mountain_dog', 'box_turtle', 'chow', 'shopping_cart',\n",
       "       'miniature_poodle', 'golden_retriever', 'Gordon_setter',\n",
       "       'Walker_hound', 'pug', 'bloodhound', 'Lhasa', 'English_setter',\n",
       "       'hen', 'desktop_computer', 'Italian_greyhound', 'Maltese_dog',\n",
       "       'three-toed_sloth', 'ox', 'malamute', 'guinea_pig',\n",
       "       'soft-coated_wheaten_terrier', 'Chihuahua',\n",
       "       'black-and-tan_coonhound', 'coho', 'toy_terrier',\n",
       "       'Blenheim_spaniel', 'Pembroke', 'llama',\n",
       "       'Chesapeake_Bay_retriever', 'curly-coated_retriever', 'dalmatian',\n",
       "       'Ibizan_hound', 'Border_collie', 'Labrador_retriever', 'seat_belt',\n",
       "       'snail', 'miniature_schnauzer', 'Airedale', 'triceratops', 'swab',\n",
       "       'hay', 'hyena', 'jigsaw_puzzle', 'West_Highland_white_terrier',\n",
       "       'toy_poodle', 'giant_schnauzer', 'vizsla', 'vacuum', 'Rottweiler',\n",
       "       'Siberian_husky', 'teddy', 'papillon', 'Saint_Bernard',\n",
       "       'porcupine', 'goose', 'Tibetan_terrier', 'borzoi', 'beagle',\n",
       "       'hare', 'Yorkshire_terrier', 'Pomeranian', 'electric_fan',\n",
       "       'web_site', 'ibex', 'kuvasz', 'fire_engine', 'lorikeet',\n",
       "       'flat-coated_retriever', 'toyshop', 'common_iguana',\n",
       "       'Norwegian_elkhound', 'frilled_lizard', 'leatherback_turtle',\n",
       "       'hamster', 'Angora', 'Arctic_fox', 'trombone', 'canoe',\n",
       "       'king_penguin', 'shopping_basket', 'standard_poodle',\n",
       "       'Staffordshire_bullterrier', 'basenji', 'Lakeland_terrier',\n",
       "       'American_Staffordshire_terrier', 'bearskin', 'Shih-Tzu',\n",
       "       'bustard', 'crash_helmet', 'French_bulldog', 'Pekinese',\n",
       "       'komondor', 'ski_mask', 'malinois', 'kelpie', 'Brittany_spaniel',\n",
       "       'cocker_spaniel', 'shower_curtain', 'basset', 'jellyfish',\n",
       "       'doormat', 'Arabian_camel', 'lynx', 'hog', 'comic_book', 'minivan',\n",
       "       'seashore', 'cuirass', 'Brabancon_griffon', 'candle', 'Eskimo_dog',\n",
       "       'weasel', 'Christmas_stocking', 'washbasin', 'car_mirror',\n",
       "       'piggy_bank', 'pot', 'boathouse', 'mud_turtle',\n",
       "       'German_short-haired_pointer', 'Shetland_sheepdog',\n",
       "       'Irish_terrier', 'cairn', 'platypus', 'English_springer',\n",
       "       'whippet', 'ping-pong_ball', 'sea_urchin', 'bow_tie',\n",
       "       'window_shade', \"jack-o'-lantern\", 'sorrel', 'Sussex_spaniel',\n",
       "       'peacock', 'axolotl', 'wool', 'banana', 'Dandie_Dinmont',\n",
       "       'Norwich_terrier', 'wood_rabbit', 'dhole', 'keeshond',\n",
       "       'Norfolk_terrier', 'lacewing', 'dingo', 'brown_bear',\n",
       "       'Old_English_sheepdog', 'scorpion', 'flamingo', 'microphone',\n",
       "       'Samoyed', 'pitcher', 'African_hunting_dog', 'refrigerator',\n",
       "       'picket_fence', 'tub', 'zebra', 'hermit_crab', 'swing', 'Doberman',\n",
       "       'park_bench', 'feather_boa', 'Loafer', 'stone_wall', 'ice_bear',\n",
       "       'prayer_rug', 'chimpanzee', 'china_cabinet', 'bee_eater',\n",
       "       'tennis_ball', 'carton', 'killer_whale', 'ostrich', 'terrapin',\n",
       "       'Siamese_cat', 'gondola', 'Great_Pyrenees', 'microwave',\n",
       "       'starfish', 'sandbar', 'tusker', 'motor_scooter', 'ram',\n",
       "       'leaf_beetle', 'wombat', 'schipperke', 'Newfoundland',\n",
       "       'bull_mastiff', 'water_bottle', 'suit', 'toilet_seat', 'collie',\n",
       "       'robin', 'Cardigan', 'Greater_Swiss_Mountain_dog', 'slug',\n",
       "       'toilet_tissue', 'acorn_squash', 'soccer_ball',\n",
       "       'African_crocodile', 'tick', 'ocarina', 'boxer', 'street_sign',\n",
       "       'bow', 'stove', 'paper_towel', 'upright', 'dough',\n",
       "       'Scottish_deerhound', 'bath_towel', 'standard_schnauzer',\n",
       "       'walking_stick', 'Irish_water_spaniel', 'bubble', 'Boston_bull',\n",
       "       'book_jacket', 'rain_barrel', 'black-footed_ferret', 'guenon',\n",
       "       'Japanese_spaniel', 'water_buffalo', 'patio', 'cowboy_hat',\n",
       "       'dogsled', 'maze', 'harp', 'panpipe', 'cash_machine', 'mailbox',\n",
       "       'wallaby', 'EntleBucher', 'earthstar', 'pillow', 'bluetick',\n",
       "       'space_heater', 'carousel', 'Irish_setter', 'birdhouse', 'snorkel',\n",
       "       'bald_eagle', 'koala', 'Leonberg', 'cheetah', 'minibus',\n",
       "       'Weimaraner', 'clog', 'dishwasher', 'white_wolf', 'sliding_door',\n",
       "       'damselfly', 'Great_Dane', 'Tibetan_mastiff', 'cheeseburger',\n",
       "       'fiddler_crab', 'bannister', 'crane', 'Scotch_terrier',\n",
       "       'snowmobile', 'badger', 'bighorn', 'geyser', 'barrow', 'bison',\n",
       "       'Mexican_hairless', 'ice_lolly', 'sea_lion', 'dining_table',\n",
       "       'groenendael', 'Australian_terrier', 'beaver', 'briard',\n",
       "       'Appenzeller', 'grey_fox', 'mousetrap', 'hippopotamus',\n",
       "       'Border_terrier', 'hummingbird', 'tailed_frog', 'otter',\n",
       "       'Egyptian_cat', 'four-poster', 'wild_boar', 'bathtub', 'agama',\n",
       "       'muzzle', 'hotdog', 'bib', 'espresso', 'timber_wolf', 'meerkat',\n",
       "       'nail', 'hammer', 'home_theater', 'alp', 'bonnet', 'handkerchief',\n",
       "       'hand_blower', 'polecat', 'lakeside', 'studio_couch', 'cup',\n",
       "       'cliff', 'Bedlington_terrier', 'lawn_mower', 'balloon',\n",
       "       'sunglasses', 'rapeseed', 'traffic_light', 'coil', 'binoculars',\n",
       "       'paddle', 'tiger_shark', 'sulphur-crested_cockatoo',\n",
       "       'wire-haired_fox_terrier', 'Saluki', 'American_black_bear',\n",
       "       'rotisserie', 'conch', 'skunk', 'bookshop', 'radio_telescope',\n",
       "       'cougar', 'African_grey', 'coral_reef', 'lion', 'maillot',\n",
       "       'Madagascar_cat', 'tabby', 'silky_terrier', 'giant_panda',\n",
       "       'long-horned_beetle', 'Afghan_hound', 'clumber', 'sundial',\n",
       "       'padlock', 'pool_table', 'quilt', 'beach_wagon', 'remote_control',\n",
       "       'bakery', 'pedestal', 'gas_pump', 'bookcase', 'shield', 'loupe',\n",
       "       'restaurant', 'prison', 'school_bus', 'cowboy_boot', 'jersey',\n",
       "       'wooden_spoon', 'leopard', 'mortarboard', 'teapot',\n",
       "       'military_uniform', 'washer', 'coffee_mug', 'fountain',\n",
       "       'pencil_box', 'barbell', 'grille', 'revolver', 'envelope',\n",
       "       'syringe', 'marmot', 'pole', 'laptop', 'basketball', 'tricycle',\n",
       "       'convertible', 'limousine', 'orange'], dtype=object)"
      ]
     },
     "execution_count": 25,
     "metadata": {},
     "output_type": "execute_result"
    }
   ],
   "source": [
    "# check if come images are not of dogs based on the image prediction variables\n",
    "image_predictions_df.p1.unique()"
   ]
  },
  {
   "cell_type": "markdown",
   "metadata": {},
   "source": [
    "### Accessing Twitter API Dataframe\n",
    "\n",
    "#### Visual Assessment"
   ]
  },
  {
   "cell_type": "code",
   "execution_count": 26,
   "metadata": {
    "scrolled": true
   },
   "outputs": [
    {
     "data": {
      "text/html": [
       "<div>\n",
       "<style scoped>\n",
       "    .dataframe tbody tr th:only-of-type {\n",
       "        vertical-align: middle;\n",
       "    }\n",
       "\n",
       "    .dataframe tbody tr th {\n",
       "        vertical-align: top;\n",
       "    }\n",
       "\n",
       "    .dataframe thead th {\n",
       "        text-align: right;\n",
       "    }\n",
       "</style>\n",
       "<table border=\"1\" class=\"dataframe\">\n",
       "  <thead>\n",
       "    <tr style=\"text-align: right;\">\n",
       "      <th></th>\n",
       "      <th>tweet_id</th>\n",
       "      <th>favorites</th>\n",
       "      <th>retweets</th>\n",
       "      <th>timestamp</th>\n",
       "    </tr>\n",
       "  </thead>\n",
       "  <tbody>\n",
       "    <tr>\n",
       "      <th>0</th>\n",
       "      <td>892420643555336193</td>\n",
       "      <td>33599</td>\n",
       "      <td>6950</td>\n",
       "      <td>2017-08-01 16:23:56+00:00</td>\n",
       "    </tr>\n",
       "    <tr>\n",
       "      <th>1</th>\n",
       "      <td>892177421306343426</td>\n",
       "      <td>29141</td>\n",
       "      <td>5252</td>\n",
       "      <td>2017-08-01 00:17:27+00:00</td>\n",
       "    </tr>\n",
       "    <tr>\n",
       "      <th>2</th>\n",
       "      <td>891815181378084864</td>\n",
       "      <td>21928</td>\n",
       "      <td>3458</td>\n",
       "      <td>2017-07-31 00:18:03+00:00</td>\n",
       "    </tr>\n",
       "    <tr>\n",
       "      <th>3</th>\n",
       "      <td>891689557279858688</td>\n",
       "      <td>36652</td>\n",
       "      <td>7158</td>\n",
       "      <td>2017-07-30 15:58:51+00:00</td>\n",
       "    </tr>\n",
       "    <tr>\n",
       "      <th>4</th>\n",
       "      <td>891327558926688256</td>\n",
       "      <td>35045</td>\n",
       "      <td>7698</td>\n",
       "      <td>2017-07-29 16:00:24+00:00</td>\n",
       "    </tr>\n",
       "    <tr>\n",
       "      <th>...</th>\n",
       "      <td>...</td>\n",
       "      <td>...</td>\n",
       "      <td>...</td>\n",
       "      <td>...</td>\n",
       "    </tr>\n",
       "    <tr>\n",
       "      <th>2320</th>\n",
       "      <td>666049248165822465</td>\n",
       "      <td>88</td>\n",
       "      <td>36</td>\n",
       "      <td>2015-11-16 00:24:50+00:00</td>\n",
       "    </tr>\n",
       "    <tr>\n",
       "      <th>2321</th>\n",
       "      <td>666044226329800704</td>\n",
       "      <td>245</td>\n",
       "      <td>114</td>\n",
       "      <td>2015-11-16 00:04:52+00:00</td>\n",
       "    </tr>\n",
       "    <tr>\n",
       "      <th>2322</th>\n",
       "      <td>666033412701032449</td>\n",
       "      <td>100</td>\n",
       "      <td>36</td>\n",
       "      <td>2015-11-15 23:21:54+00:00</td>\n",
       "    </tr>\n",
       "    <tr>\n",
       "      <th>2323</th>\n",
       "      <td>666029285002620928</td>\n",
       "      <td>112</td>\n",
       "      <td>39</td>\n",
       "      <td>2015-11-15 23:05:30+00:00</td>\n",
       "    </tr>\n",
       "    <tr>\n",
       "      <th>2324</th>\n",
       "      <td>666020888022790149</td>\n",
       "      <td>2275</td>\n",
       "      <td>418</td>\n",
       "      <td>2015-11-15 22:32:08+00:00</td>\n",
       "    </tr>\n",
       "  </tbody>\n",
       "</table>\n",
       "<p>2325 rows × 4 columns</p>\n",
       "</div>"
      ],
      "text/plain": [
       "                tweet_id  favorites  retweets                  timestamp\n",
       "0     892420643555336193      33599      6950  2017-08-01 16:23:56+00:00\n",
       "1     892177421306343426      29141      5252  2017-08-01 00:17:27+00:00\n",
       "2     891815181378084864      21928      3458  2017-07-31 00:18:03+00:00\n",
       "3     891689557279858688      36652      7158  2017-07-30 15:58:51+00:00\n",
       "4     891327558926688256      35045      7698  2017-07-29 16:00:24+00:00\n",
       "...                  ...        ...       ...                        ...\n",
       "2320  666049248165822465         88        36  2015-11-16 00:24:50+00:00\n",
       "2321  666044226329800704        245       114  2015-11-16 00:04:52+00:00\n",
       "2322  666033412701032449        100        36  2015-11-15 23:21:54+00:00\n",
       "2323  666029285002620928        112        39  2015-11-15 23:05:30+00:00\n",
       "2324  666020888022790149       2275       418  2015-11-15 22:32:08+00:00\n",
       "\n",
       "[2325 rows x 4 columns]"
      ]
     },
     "execution_count": 26,
     "metadata": {},
     "output_type": "execute_result"
    }
   ],
   "source": [
    "tweets_data_df"
   ]
  },
  {
   "cell_type": "code",
   "execution_count": 27,
   "metadata": {},
   "outputs": [
    {
     "data": {
      "text/html": [
       "<div>\n",
       "<style scoped>\n",
       "    .dataframe tbody tr th:only-of-type {\n",
       "        vertical-align: middle;\n",
       "    }\n",
       "\n",
       "    .dataframe tbody tr th {\n",
       "        vertical-align: top;\n",
       "    }\n",
       "\n",
       "    .dataframe thead th {\n",
       "        text-align: right;\n",
       "    }\n",
       "</style>\n",
       "<table border=\"1\" class=\"dataframe\">\n",
       "  <thead>\n",
       "    <tr style=\"text-align: right;\">\n",
       "      <th></th>\n",
       "      <th>tweet_id</th>\n",
       "      <th>favorites</th>\n",
       "      <th>retweets</th>\n",
       "      <th>timestamp</th>\n",
       "    </tr>\n",
       "  </thead>\n",
       "  <tbody>\n",
       "    <tr>\n",
       "      <th>191</th>\n",
       "      <td>853760880890318849</td>\n",
       "      <td>25934</td>\n",
       "      <td>5094</td>\n",
       "      <td>2017-04-17 00:03:50+00:00</td>\n",
       "    </tr>\n",
       "    <tr>\n",
       "      <th>806</th>\n",
       "      <td>768609597686943744</td>\n",
       "      <td>3830</td>\n",
       "      <td>1091</td>\n",
       "      <td>2016-08-25 00:43:02+00:00</td>\n",
       "    </tr>\n",
       "    <tr>\n",
       "      <th>766</th>\n",
       "      <td>773985732834758656</td>\n",
       "      <td>10093</td>\n",
       "      <td>3558</td>\n",
       "      <td>2016-09-08 20:45:53+00:00</td>\n",
       "    </tr>\n",
       "    <tr>\n",
       "      <th>1807</th>\n",
       "      <td>675898130735476737</td>\n",
       "      <td>1439</td>\n",
       "      <td>505</td>\n",
       "      <td>2015-12-13 04:40:46+00:00</td>\n",
       "    </tr>\n",
       "    <tr>\n",
       "      <th>1241</th>\n",
       "      <td>709409458133323776</td>\n",
       "      <td>2417</td>\n",
       "      <td>615</td>\n",
       "      <td>2016-03-14 16:02:49+00:00</td>\n",
       "    </tr>\n",
       "    <tr>\n",
       "      <th>1028</th>\n",
       "      <td>741793263812808706</td>\n",
       "      <td>4204</td>\n",
       "      <td>1381</td>\n",
       "      <td>2016-06-12 00:44:30+00:00</td>\n",
       "    </tr>\n",
       "    <tr>\n",
       "      <th>352</th>\n",
       "      <td>828409743546925057</td>\n",
       "      <td>6007</td>\n",
       "      <td>1072</td>\n",
       "      <td>2017-02-06 01:07:28+00:00</td>\n",
       "    </tr>\n",
       "    <tr>\n",
       "      <th>1768</th>\n",
       "      <td>677187300187611136</td>\n",
       "      <td>2478</td>\n",
       "      <td>804</td>\n",
       "      <td>2015-12-16 18:03:28+00:00</td>\n",
       "    </tr>\n",
       "    <tr>\n",
       "      <th>851</th>\n",
       "      <td>760893934457552897</td>\n",
       "      <td>3559</td>\n",
       "      <td>879</td>\n",
       "      <td>2016-08-03 17:43:45+00:00</td>\n",
       "    </tr>\n",
       "    <tr>\n",
       "      <th>849</th>\n",
       "      <td>761227390836215808</td>\n",
       "      <td>4967</td>\n",
       "      <td>1433</td>\n",
       "      <td>2016-08-04 15:48:47+00:00</td>\n",
       "    </tr>\n",
       "  </tbody>\n",
       "</table>\n",
       "</div>"
      ],
      "text/plain": [
       "                tweet_id  favorites  retweets                  timestamp\n",
       "191   853760880890318849      25934      5094  2017-04-17 00:03:50+00:00\n",
       "806   768609597686943744       3830      1091  2016-08-25 00:43:02+00:00\n",
       "766   773985732834758656      10093      3558  2016-09-08 20:45:53+00:00\n",
       "1807  675898130735476737       1439       505  2015-12-13 04:40:46+00:00\n",
       "1241  709409458133323776       2417       615  2016-03-14 16:02:49+00:00\n",
       "1028  741793263812808706       4204      1381  2016-06-12 00:44:30+00:00\n",
       "352   828409743546925057       6007      1072  2017-02-06 01:07:28+00:00\n",
       "1768  677187300187611136       2478       804  2015-12-16 18:03:28+00:00\n",
       "851   760893934457552897       3559       879  2016-08-03 17:43:45+00:00\n",
       "849   761227390836215808       4967      1433  2016-08-04 15:48:47+00:00"
      ]
     },
     "execution_count": 27,
     "metadata": {},
     "output_type": "execute_result"
    }
   ],
   "source": [
    "tweets_data_df.sample(10)"
   ]
  },
  {
   "cell_type": "markdown",
   "metadata": {},
   "source": [
    "#### Programmatic Assessment"
   ]
  },
  {
   "cell_type": "code",
   "execution_count": 28,
   "metadata": {},
   "outputs": [
    {
     "name": "stdout",
     "output_type": "stream",
     "text": [
      "<class 'pandas.core.frame.DataFrame'>\n",
      "RangeIndex: 2325 entries, 0 to 2324\n",
      "Data columns (total 4 columns):\n",
      " #   Column     Non-Null Count  Dtype \n",
      "---  ------     --------------  ----- \n",
      " 0   tweet_id   2325 non-null   int64 \n",
      " 1   favorites  2325 non-null   int64 \n",
      " 2   retweets   2325 non-null   int64 \n",
      " 3   timestamp  2325 non-null   object\n",
      "dtypes: int64(3), object(1)\n",
      "memory usage: 72.8+ KB\n"
     ]
    }
   ],
   "source": [
    "tweets_data_df.info()"
   ]
  },
  {
   "cell_type": "code",
   "execution_count": 29,
   "metadata": {},
   "outputs": [
    {
     "data": {
      "text/html": [
       "<div>\n",
       "<style scoped>\n",
       "    .dataframe tbody tr th:only-of-type {\n",
       "        vertical-align: middle;\n",
       "    }\n",
       "\n",
       "    .dataframe tbody tr th {\n",
       "        vertical-align: top;\n",
       "    }\n",
       "\n",
       "    .dataframe thead th {\n",
       "        text-align: right;\n",
       "    }\n",
       "</style>\n",
       "<table border=\"1\" class=\"dataframe\">\n",
       "  <thead>\n",
       "    <tr style=\"text-align: right;\">\n",
       "      <th></th>\n",
       "      <th>tweet_id</th>\n",
       "      <th>favorites</th>\n",
       "      <th>retweets</th>\n",
       "    </tr>\n",
       "  </thead>\n",
       "  <tbody>\n",
       "    <tr>\n",
       "      <th>count</th>\n",
       "      <td>2.325000e+03</td>\n",
       "      <td>2325.000000</td>\n",
       "      <td>2325.000000</td>\n",
       "    </tr>\n",
       "    <tr>\n",
       "      <th>mean</th>\n",
       "      <td>7.417278e+17</td>\n",
       "      <td>7010.868387</td>\n",
       "      <td>2453.129032</td>\n",
       "    </tr>\n",
       "    <tr>\n",
       "      <th>std</th>\n",
       "      <td>6.817828e+16</td>\n",
       "      <td>10884.736967</td>\n",
       "      <td>4151.549783</td>\n",
       "    </tr>\n",
       "    <tr>\n",
       "      <th>min</th>\n",
       "      <td>6.660209e+17</td>\n",
       "      <td>0.000000</td>\n",
       "      <td>1.000000</td>\n",
       "    </tr>\n",
       "    <tr>\n",
       "      <th>25%</th>\n",
       "      <td>6.780233e+17</td>\n",
       "      <td>1220.000000</td>\n",
       "      <td>493.000000</td>\n",
       "    </tr>\n",
       "    <tr>\n",
       "      <th>50%</th>\n",
       "      <td>7.177900e+17</td>\n",
       "      <td>3031.000000</td>\n",
       "      <td>1143.000000</td>\n",
       "    </tr>\n",
       "    <tr>\n",
       "      <th>75%</th>\n",
       "      <td>7.986440e+17</td>\n",
       "      <td>8557.000000</td>\n",
       "      <td>2842.000000</td>\n",
       "    </tr>\n",
       "    <tr>\n",
       "      <th>max</th>\n",
       "      <td>8.924206e+17</td>\n",
       "      <td>143711.000000</td>\n",
       "      <td>70055.000000</td>\n",
       "    </tr>\n",
       "  </tbody>\n",
       "</table>\n",
       "</div>"
      ],
      "text/plain": [
       "           tweet_id      favorites      retweets\n",
       "count  2.325000e+03    2325.000000   2325.000000\n",
       "mean   7.417278e+17    7010.868387   2453.129032\n",
       "std    6.817828e+16   10884.736967   4151.549783\n",
       "min    6.660209e+17       0.000000      1.000000\n",
       "25%    6.780233e+17    1220.000000    493.000000\n",
       "50%    7.177900e+17    3031.000000   1143.000000\n",
       "75%    7.986440e+17    8557.000000   2842.000000\n",
       "max    8.924206e+17  143711.000000  70055.000000"
      ]
     },
     "execution_count": 29,
     "metadata": {},
     "output_type": "execute_result"
    }
   ],
   "source": [
    "tweets_data_df.describe()"
   ]
  },
  {
   "cell_type": "markdown",
   "metadata": {},
   "source": [
    "### Quality issues discovered\n",
    "1. Nondescriptive Column headers (Visual Assessment)\n",
    "2. Unclear source entires and wrong datatype\n",
    "3. The in_reply_to_status_id, in_reply_to_user_id, retweeted_status_id, retweeted_status_user_id, retweeted_status_timestamp, expanded_urls columns contain null values\n",
    "4. Datatype error: in_reply_to_status_id, in_reply_to_user_id, retweeted_status_id, retweeted_status_user_id are floats\n",
    "5. 'None' instead of NaN in doggo, floofer, pupper and puppo columns\n",
    "6. Based off of the image prediction results, not all images contain dogs\n",
    "7. Wrong datatype for timestamp variables\n",
    "8. 181 retweets included in the dataset\n",
    "9. 78 status replies included in the dataset"
   ]
  },
  {
   "cell_type": "markdown",
   "metadata": {
    "extensions": {
     "jupyter_dashboards": {
      "version": 1,
      "views": {
       "grid_default": {
        "col": 0,
        "height": 7,
        "hidden": false,
        "row": 40,
        "width": 12
       },
       "report_default": {
        "hidden": false
       }
      }
     }
    }
   },
   "source": [
    "### Tidiness issues discovered\n",
    "1. All the prediction columns represent information on one variable i.e. The type of dog.\n",
    "2. Unused Columns: img_num not needed for the analysis\n",
    "3. multiple tables for the same observational unit\n",
    "4. The columns: doggo, floofer, pupper and puppo all represent thesame variable i.e the dogs' trait\n",
    "5. The columns: rating_numerator and rating_denominator both represent thesame variable i.e the dogs' rating"
   ]
  },
  {
   "cell_type": "markdown",
   "metadata": {
    "extensions": {
     "jupyter_dashboards": {
      "version": 1,
      "views": {
       "grid_default": {
        "col": 4,
        "height": 4,
        "hidden": false,
        "row": 32,
        "width": 4
       },
       "report_default": {
        "hidden": false
       }
      }
     }
    }
   },
   "source": [
    "<a id='clean'></a>\n",
    "## Cleaning Data\n",
    "\n",
    "Cleaning the gathered dataset in preparation for explorationa dn visualizations. This helps present misleading exploration results. Without cleaning, the exploration will probably not work."
   ]
  },
  {
   "cell_type": "code",
   "execution_count": 53,
   "metadata": {},
   "outputs": [],
   "source": [
    "# Make copies of original pieces of data\n",
    "\n",
    "twitter_archive_clean_df = twitter_archive_df.copy()\n",
    "image_predictions_clean_df = image_predictions_df.copy()\n",
    "tweets_data_clean_df = tweets_data_df.copy()"
   ]
  },
  {
   "cell_type": "markdown",
   "metadata": {},
   "source": [
    "### Issue: multiple tables for the same observational unit"
   ]
  },
  {
   "cell_type": "markdown",
   "metadata": {},
   "source": [
    "#### Define\n",
    "Create a single table for the dataset by merging all 3 dataframes."
   ]
  },
  {
   "cell_type": "markdown",
   "metadata": {},
   "source": [
    "#### Code"
   ]
  },
  {
   "cell_type": "code",
   "execution_count": 54,
   "metadata": {},
   "outputs": [],
   "source": [
    "# creating a single dataframe\n",
    "\n",
    "twitter_archive_clean_df = pd.merge(left=twitter_archive_clean_df, right=tweets_data_clean_df, left_on='tweet_id', right_on='tweet_id', how='inner')\n",
    "\n",
    "twitter_archive_clean_df = twitter_archive_clean_df.merge(image_predictions_clean_df, on='tweet_id', how='inner')"
   ]
  },
  {
   "cell_type": "markdown",
   "metadata": {},
   "source": [
    "#### Test"
   ]
  },
  {
   "cell_type": "code",
   "execution_count": 55,
   "metadata": {
    "scrolled": false
   },
   "outputs": [
    {
     "data": {
      "text/html": [
       "<div>\n",
       "<style scoped>\n",
       "    .dataframe tbody tr th:only-of-type {\n",
       "        vertical-align: middle;\n",
       "    }\n",
       "\n",
       "    .dataframe tbody tr th {\n",
       "        vertical-align: top;\n",
       "    }\n",
       "\n",
       "    .dataframe thead th {\n",
       "        text-align: right;\n",
       "    }\n",
       "</style>\n",
       "<table border=\"1\" class=\"dataframe\">\n",
       "  <thead>\n",
       "    <tr style=\"text-align: right;\">\n",
       "      <th></th>\n",
       "      <th>tweet_id</th>\n",
       "      <th>in_reply_to_status_id</th>\n",
       "      <th>in_reply_to_user_id</th>\n",
       "      <th>timestamp_x</th>\n",
       "      <th>source</th>\n",
       "      <th>text</th>\n",
       "      <th>retweeted_status_id</th>\n",
       "      <th>retweeted_status_user_id</th>\n",
       "      <th>retweeted_status_timestamp</th>\n",
       "      <th>expanded_urls</th>\n",
       "      <th>...</th>\n",
       "      <th>img_num</th>\n",
       "      <th>p1</th>\n",
       "      <th>p1_conf</th>\n",
       "      <th>p1_dog</th>\n",
       "      <th>p2</th>\n",
       "      <th>p2_conf</th>\n",
       "      <th>p2_dog</th>\n",
       "      <th>p3</th>\n",
       "      <th>p3_conf</th>\n",
       "      <th>p3_dog</th>\n",
       "    </tr>\n",
       "  </thead>\n",
       "  <tbody>\n",
       "    <tr>\n",
       "      <th>0</th>\n",
       "      <td>892420643555336193</td>\n",
       "      <td>NaN</td>\n",
       "      <td>NaN</td>\n",
       "      <td>2017-08-01 16:23:56 +0000</td>\n",
       "      <td>&lt;a href=\"http://twitter.com/download/iphone\" r...</td>\n",
       "      <td>This is Phineas. He's a mystical boy. Only eve...</td>\n",
       "      <td>NaN</td>\n",
       "      <td>NaN</td>\n",
       "      <td>NaN</td>\n",
       "      <td>https://twitter.com/dog_rates/status/892420643...</td>\n",
       "      <td>...</td>\n",
       "      <td>1</td>\n",
       "      <td>orange</td>\n",
       "      <td>0.097049</td>\n",
       "      <td>False</td>\n",
       "      <td>bagel</td>\n",
       "      <td>0.085851</td>\n",
       "      <td>False</td>\n",
       "      <td>banana</td>\n",
       "      <td>0.076110</td>\n",
       "      <td>False</td>\n",
       "    </tr>\n",
       "    <tr>\n",
       "      <th>1</th>\n",
       "      <td>892177421306343426</td>\n",
       "      <td>NaN</td>\n",
       "      <td>NaN</td>\n",
       "      <td>2017-08-01 00:17:27 +0000</td>\n",
       "      <td>&lt;a href=\"http://twitter.com/download/iphone\" r...</td>\n",
       "      <td>This is Tilly. She's just checking pup on you....</td>\n",
       "      <td>NaN</td>\n",
       "      <td>NaN</td>\n",
       "      <td>NaN</td>\n",
       "      <td>https://twitter.com/dog_rates/status/892177421...</td>\n",
       "      <td>...</td>\n",
       "      <td>1</td>\n",
       "      <td>Chihuahua</td>\n",
       "      <td>0.323581</td>\n",
       "      <td>True</td>\n",
       "      <td>Pekinese</td>\n",
       "      <td>0.090647</td>\n",
       "      <td>True</td>\n",
       "      <td>papillon</td>\n",
       "      <td>0.068957</td>\n",
       "      <td>True</td>\n",
       "    </tr>\n",
       "    <tr>\n",
       "      <th>2</th>\n",
       "      <td>891815181378084864</td>\n",
       "      <td>NaN</td>\n",
       "      <td>NaN</td>\n",
       "      <td>2017-07-31 00:18:03 +0000</td>\n",
       "      <td>&lt;a href=\"http://twitter.com/download/iphone\" r...</td>\n",
       "      <td>This is Archie. He is a rare Norwegian Pouncin...</td>\n",
       "      <td>NaN</td>\n",
       "      <td>NaN</td>\n",
       "      <td>NaN</td>\n",
       "      <td>https://twitter.com/dog_rates/status/891815181...</td>\n",
       "      <td>...</td>\n",
       "      <td>1</td>\n",
       "      <td>Chihuahua</td>\n",
       "      <td>0.716012</td>\n",
       "      <td>True</td>\n",
       "      <td>malamute</td>\n",
       "      <td>0.078253</td>\n",
       "      <td>True</td>\n",
       "      <td>kelpie</td>\n",
       "      <td>0.031379</td>\n",
       "      <td>True</td>\n",
       "    </tr>\n",
       "  </tbody>\n",
       "</table>\n",
       "<p>3 rows × 31 columns</p>\n",
       "</div>"
      ],
      "text/plain": [
       "             tweet_id  in_reply_to_status_id  in_reply_to_user_id  \\\n",
       "0  892420643555336193                    NaN                  NaN   \n",
       "1  892177421306343426                    NaN                  NaN   \n",
       "2  891815181378084864                    NaN                  NaN   \n",
       "\n",
       "                 timestamp_x  \\\n",
       "0  2017-08-01 16:23:56 +0000   \n",
       "1  2017-08-01 00:17:27 +0000   \n",
       "2  2017-07-31 00:18:03 +0000   \n",
       "\n",
       "                                              source  \\\n",
       "0  <a href=\"http://twitter.com/download/iphone\" r...   \n",
       "1  <a href=\"http://twitter.com/download/iphone\" r...   \n",
       "2  <a href=\"http://twitter.com/download/iphone\" r...   \n",
       "\n",
       "                                                text  retweeted_status_id  \\\n",
       "0  This is Phineas. He's a mystical boy. Only eve...                  NaN   \n",
       "1  This is Tilly. She's just checking pup on you....                  NaN   \n",
       "2  This is Archie. He is a rare Norwegian Pouncin...                  NaN   \n",
       "\n",
       "   retweeted_status_user_id retweeted_status_timestamp  \\\n",
       "0                       NaN                        NaN   \n",
       "1                       NaN                        NaN   \n",
       "2                       NaN                        NaN   \n",
       "\n",
       "                                       expanded_urls  ...  img_num         p1  \\\n",
       "0  https://twitter.com/dog_rates/status/892420643...  ...        1     orange   \n",
       "1  https://twitter.com/dog_rates/status/892177421...  ...        1  Chihuahua   \n",
       "2  https://twitter.com/dog_rates/status/891815181...  ...        1  Chihuahua   \n",
       "\n",
       "    p1_conf p1_dog        p2   p2_conf p2_dog        p3   p3_conf p3_dog  \n",
       "0  0.097049  False     bagel  0.085851  False    banana  0.076110  False  \n",
       "1  0.323581   True  Pekinese  0.090647   True  papillon  0.068957   True  \n",
       "2  0.716012   True  malamute  0.078253   True    kelpie  0.031379   True  \n",
       "\n",
       "[3 rows x 31 columns]"
      ]
     },
     "execution_count": 55,
     "metadata": {},
     "output_type": "execute_result"
    }
   ],
   "source": [
    "twitter_archive_clean_df.head(3)"
   ]
  },
  {
   "cell_type": "markdown",
   "metadata": {},
   "source": [
    "### Issue: Data type issues"
   ]
  },
  {
   "cell_type": "markdown",
   "metadata": {
    "collapsed": true,
    "extensions": {
     "jupyter_dashboards": {
      "version": 1,
      "views": {
       "grid_default": {
        "hidden": true
       },
       "report_default": {
        "hidden": true
       }
      }
     }
    }
   },
   "source": [
    "#### Define\n",
    "Use the `.astype()` method to set the right datatypes where possible"
   ]
  },
  {
   "cell_type": "markdown",
   "metadata": {},
   "source": [
    "#### Code"
   ]
  },
  {
   "cell_type": "code",
   "execution_count": 56,
   "metadata": {},
   "outputs": [],
   "source": [
    "# change timestamp_x to datatime\n",
    "twitter_archive_clean_df.timestamp_x = pd.to_datetime(twitter_archive_clean_df.timestamp_x)\n",
    "\n",
    "# change retweeted_status_timestamp to datatime\n",
    "twitter_archive_clean_df.retweeted_status_timestamp = pd.to_datetime(twitter_archive_clean_df.retweeted_status_timestamp)"
   ]
  },
  {
   "cell_type": "markdown",
   "metadata": {},
   "source": [
    "#### Test"
   ]
  },
  {
   "cell_type": "code",
   "execution_count": 57,
   "metadata": {
    "scrolled": false
   },
   "outputs": [
    {
     "name": "stdout",
     "output_type": "stream",
     "text": [
      "<class 'pandas.core.frame.DataFrame'>\n",
      "Int64Index: 2055 entries, 0 to 2054\n",
      "Data columns (total 31 columns):\n",
      " #   Column                      Non-Null Count  Dtype              \n",
      "---  ------                      --------------  -----              \n",
      " 0   tweet_id                    2055 non-null   int64              \n",
      " 1   in_reply_to_status_id       23 non-null     float64            \n",
      " 2   in_reply_to_user_id         23 non-null     float64            \n",
      " 3   timestamp_x                 2055 non-null   datetime64[ns, UTC]\n",
      " 4   source                      2055 non-null   object             \n",
      " 5   text                        2055 non-null   object             \n",
      " 6   retweeted_status_id         69 non-null     float64            \n",
      " 7   retweeted_status_user_id    69 non-null     float64            \n",
      " 8   retweeted_status_timestamp  69 non-null     datetime64[ns, UTC]\n",
      " 9   expanded_urls               2055 non-null   object             \n",
      " 10  rating_numerator            2055 non-null   int64              \n",
      " 11  rating_denominator          2055 non-null   int64              \n",
      " 12  name                        2055 non-null   object             \n",
      " 13  doggo                       2055 non-null   object             \n",
      " 14  floofer                     2055 non-null   object             \n",
      " 15  pupper                      2055 non-null   object             \n",
      " 16  puppo                       2055 non-null   object             \n",
      " 17  favorites                   2055 non-null   int64              \n",
      " 18  retweets                    2055 non-null   int64              \n",
      " 19  timestamp_y                 2055 non-null   object             \n",
      " 20  jpg_url                     2055 non-null   object             \n",
      " 21  img_num                     2055 non-null   int64              \n",
      " 22  p1                          2055 non-null   object             \n",
      " 23  p1_conf                     2055 non-null   float64            \n",
      " 24  p1_dog                      2055 non-null   bool               \n",
      " 25  p2                          2055 non-null   object             \n",
      " 26  p2_conf                     2055 non-null   float64            \n",
      " 27  p2_dog                      2055 non-null   bool               \n",
      " 28  p3                          2055 non-null   object             \n",
      " 29  p3_conf                     2055 non-null   float64            \n",
      " 30  p3_dog                      2055 non-null   bool               \n",
      "dtypes: bool(3), datetime64[ns, UTC](2), float64(7), int64(6), object(13)\n",
      "memory usage: 471.6+ KB\n"
     ]
    }
   ],
   "source": [
    "twitter_archive_clean_df.info()"
   ]
  },
  {
   "cell_type": "markdown",
   "metadata": {},
   "source": [
    "Note the columns with null values cannnot be represented as intergers. For this reason we work with them as they are."
   ]
  },
  {
   "cell_type": "markdown",
   "metadata": {},
   "source": [
    "### Issue: All the prediction columns represent information on one variable i.e. The type of dog."
   ]
  },
  {
   "cell_type": "markdown",
   "metadata": {},
   "source": [
    "#### Define:\n",
    "combine p1, p2 and p3 columns and their associated confidence levels based on whether or not the prediction is a breed of dog."
   ]
  },
  {
   "cell_type": "markdown",
   "metadata": {},
   "source": [
    "#### Code"
   ]
  },
  {
   "cell_type": "code",
   "execution_count": 58,
   "metadata": {},
   "outputs": [],
   "source": [
    "# create a unified list of predicted breeds.\n",
    "\n",
    "breed_prediction = []\n",
    "prediction_confidence = []\n",
    "\n",
    "def check_prediction(dataframe):\n",
    "    if dataframe['p1_dog'] == True:\n",
    "        breed_prediction.append(dataframe['p1'])\n",
    "        prediction_confidence.append(dataframe['p1_conf'])\n",
    "    elif dataframe['p2_dog'] == True:\n",
    "        breed_prediction.append(dataframe['p2'])\n",
    "        prediction_confidence.append(dataframe['p2_conf'])\n",
    "    elif dataframe['p3_dog'] == True:\n",
    "        breed_prediction.append(dataframe['p3'])\n",
    "        prediction_confidence.append(dataframe['p3_conf'])\n",
    "    else:\n",
    "        breed_prediction.append(np.nan)\n",
    "        prediction_confidence.append(np.nan)\n",
    "\n",
    "twitter_archive_clean_df.apply(check_prediction, axis=1)\n",
    "twitter_archive_clean_df['breed_prediction'] = breed_prediction\n",
    "twitter_archive_clean_df['prediction_confidence'] = prediction_confidence"
   ]
  },
  {
   "cell_type": "markdown",
   "metadata": {},
   "source": [
    "#### Test"
   ]
  },
  {
   "cell_type": "code",
   "execution_count": 59,
   "metadata": {},
   "outputs": [
    {
     "data": {
      "text/plain": [
       "0         https://pbs.twimg.com/media/DGKD1-bXoAAIAUK.jpg\n",
       "21      https://pbs.twimg.com/ext_tw_video_thumb/88751...\n",
       "27        https://pbs.twimg.com/media/DE4fEDzWAAAyHMM.jpg\n",
       "51        https://pbs.twimg.com/media/DDrk-f9WAAI-WQv.jpg\n",
       "52        https://pbs.twimg.com/media/DDm2Z5aXUAEDS2u.jpg\n",
       "                              ...                        \n",
       "2029      https://pbs.twimg.com/media/CT9lXGsUcAAyUFt.jpg\n",
       "2033      https://pbs.twimg.com/media/CT8mx7KW4AEQu8N.jpg\n",
       "2036      https://pbs.twimg.com/media/CT8QCd1WEAADXws.jpg\n",
       "2037      https://pbs.twimg.com/media/CT56LSZWoAAlJj2.jpg\n",
       "2048      https://pbs.twimg.com/media/CT5KoJ1WoAAJash.jpg\n",
       "Name: jpg_url, Length: 320, dtype: object"
      ]
     },
     "execution_count": 59,
     "metadata": {},
     "output_type": "execute_result"
    }
   ],
   "source": [
    "# use the prediction information to determine which images may not be of dogs.\n",
    "\n",
    "twitter_archive_clean_df[twitter_archive_clean_df.breed_prediction.isnull()].jpg_url"
   ]
  },
  {
   "cell_type": "code",
   "execution_count": 60,
   "metadata": {
    "scrolled": false
   },
   "outputs": [
    {
     "name": "stdout",
     "output_type": "stream",
     "text": [
      "<class 'pandas.core.frame.DataFrame'>\n",
      "Int64Index: 2055 entries, 0 to 2054\n",
      "Data columns (total 33 columns):\n",
      " #   Column                      Non-Null Count  Dtype              \n",
      "---  ------                      --------------  -----              \n",
      " 0   tweet_id                    2055 non-null   int64              \n",
      " 1   in_reply_to_status_id       23 non-null     float64            \n",
      " 2   in_reply_to_user_id         23 non-null     float64            \n",
      " 3   timestamp_x                 2055 non-null   datetime64[ns, UTC]\n",
      " 4   source                      2055 non-null   object             \n",
      " 5   text                        2055 non-null   object             \n",
      " 6   retweeted_status_id         69 non-null     float64            \n",
      " 7   retweeted_status_user_id    69 non-null     float64            \n",
      " 8   retweeted_status_timestamp  69 non-null     datetime64[ns, UTC]\n",
      " 9   expanded_urls               2055 non-null   object             \n",
      " 10  rating_numerator            2055 non-null   int64              \n",
      " 11  rating_denominator          2055 non-null   int64              \n",
      " 12  name                        2055 non-null   object             \n",
      " 13  doggo                       2055 non-null   object             \n",
      " 14  floofer                     2055 non-null   object             \n",
      " 15  pupper                      2055 non-null   object             \n",
      " 16  puppo                       2055 non-null   object             \n",
      " 17  favorites                   2055 non-null   int64              \n",
      " 18  retweets                    2055 non-null   int64              \n",
      " 19  timestamp_y                 2055 non-null   object             \n",
      " 20  jpg_url                     2055 non-null   object             \n",
      " 21  img_num                     2055 non-null   int64              \n",
      " 22  p1                          2055 non-null   object             \n",
      " 23  p1_conf                     2055 non-null   float64            \n",
      " 24  p1_dog                      2055 non-null   bool               \n",
      " 25  p2                          2055 non-null   object             \n",
      " 26  p2_conf                     2055 non-null   float64            \n",
      " 27  p2_dog                      2055 non-null   bool               \n",
      " 28  p3                          2055 non-null   object             \n",
      " 29  p3_conf                     2055 non-null   float64            \n",
      " 30  p3_dog                      2055 non-null   bool               \n",
      " 31  breed_prediction            1735 non-null   object             \n",
      " 32  prediction_confidence       1735 non-null   float64            \n",
      "dtypes: bool(3), datetime64[ns, UTC](2), float64(8), int64(6), object(14)\n",
      "memory usage: 503.7+ KB\n"
     ]
    }
   ],
   "source": [
    "twitter_archive_clean_df.info()"
   ]
  },
  {
   "cell_type": "markdown",
   "metadata": {},
   "source": [
    "### Issue: The columns: doggo, floofer, pupper and puppo all represent thesame variable"
   ]
  },
  {
   "cell_type": "markdown",
   "metadata": {},
   "source": [
    "#### Define:\n",
    "Combine all four columns into one using the `.melt()` function"
   ]
  },
  {
   "cell_type": "markdown",
   "metadata": {},
   "source": [
    "#### Code"
   ]
  },
  {
   "cell_type": "code",
   "execution_count": 61,
   "metadata": {},
   "outputs": [],
   "source": [
    "trait = []\n",
    "\n",
    "def trait_check(dataframe):\n",
    "    if dataframe['doggo'] == 'doggo':\n",
    "        trait.append(dataframe['doggo'])\n",
    "    elif dataframe['pupper'] == 'pupper':\n",
    "        trait.append(dataframe['pupper'])\n",
    "    elif dataframe['puppo'] == 'puppo':\n",
    "        trait.append(dataframe['puppo'])\n",
    "    elif dataframe['floofer'] == 'floofer':\n",
    "        trait.append(dataframe['floofer'])\n",
    "    else:\n",
    "        trait.append(np.nan)\n",
    "\n",
    "twitter_archive_clean_df.apply(trait_check, axis=1)\n",
    "twitter_archive_clean_df['trait'] = trait"
   ]
  },
  {
   "cell_type": "markdown",
   "metadata": {},
   "source": [
    "#### Test"
   ]
  },
  {
   "cell_type": "code",
   "execution_count": 62,
   "metadata": {
    "scrolled": true
   },
   "outputs": [
    {
     "name": "stdout",
     "output_type": "stream",
     "text": [
      "True\n"
     ]
    }
   ],
   "source": [
    "print(f\"{'trait' in list(twitter_archive_clean_df.columns)}\")"
   ]
  },
  {
   "cell_type": "markdown",
   "metadata": {},
   "source": [
    "### Issue: Unclear source entries and wrong data type"
   ]
  },
  {
   "cell_type": "markdown",
   "metadata": {},
   "source": [
    "#### Define:\n",
    "Use regular expression to extract the useful part of the source text"
   ]
  },
  {
   "cell_type": "markdown",
   "metadata": {},
   "source": [
    "#### Code"
   ]
  },
  {
   "cell_type": "code",
   "execution_count": 63,
   "metadata": {},
   "outputs": [],
   "source": [
    "# extract th useful part of each entry\n",
    "twitter_archive_clean_df['source'] = twitter_archive_clean_df['source'].apply(lambda x: re.findall(r'>(.*)<', x)[0])\n",
    "\n",
    "# change to category datatype\n",
    "twitter_archive_clean_df['source'] = twitter_archive_clean_df['source'].astype(\"category\")"
   ]
  },
  {
   "cell_type": "markdown",
   "metadata": {},
   "source": [
    "#### Test"
   ]
  },
  {
   "cell_type": "code",
   "execution_count": 64,
   "metadata": {
    "scrolled": true
   },
   "outputs": [
    {
     "name": "stdout",
     "output_type": "stream",
     "text": [
      "category\n"
     ]
    },
    {
     "data": {
      "text/plain": [
       "Twitter for iPhone    2015\n",
       "Twitter Web Client      30\n",
       "TweetDeck               10\n",
       "Name: source, dtype: int64"
      ]
     },
     "execution_count": 64,
     "metadata": {},
     "output_type": "execute_result"
    }
   ],
   "source": [
    "print(twitter_archive_clean_df['source'].dtype)\n",
    "twitter_archive_clean_df['source'].value_counts()"
   ]
  },
  {
   "cell_type": "markdown",
   "metadata": {},
   "source": [
    "### Issue: Some retweets still included in the dataset"
   ]
  },
  {
   "cell_type": "markdown",
   "metadata": {},
   "source": [
    "#### Define:\n",
    "Extract and retain only the rows with null entries in their retweeted_status_id column."
   ]
  },
  {
   "cell_type": "markdown",
   "metadata": {},
   "source": [
    "#### Code"
   ]
  },
  {
   "cell_type": "code",
   "execution_count": 65,
   "metadata": {},
   "outputs": [],
   "source": [
    "# Delete the retweet data\n",
    "\n",
    "twitter_archive_clean_df = twitter_archive_clean_df[pd.isnull(twitter_archive_clean_df.retweeted_status_id)]"
   ]
  },
  {
   "cell_type": "markdown",
   "metadata": {},
   "source": [
    "#### Test"
   ]
  },
  {
   "cell_type": "code",
   "execution_count": 66,
   "metadata": {
    "scrolled": false
   },
   "outputs": [
    {
     "name": "stdout",
     "output_type": "stream",
     "text": [
      "<class 'pandas.core.frame.DataFrame'>\n",
      "Int64Index: 1986 entries, 0 to 2054\n",
      "Data columns (total 34 columns):\n",
      " #   Column                      Non-Null Count  Dtype              \n",
      "---  ------                      --------------  -----              \n",
      " 0   tweet_id                    1986 non-null   int64              \n",
      " 1   in_reply_to_status_id       23 non-null     float64            \n",
      " 2   in_reply_to_user_id         23 non-null     float64            \n",
      " 3   timestamp_x                 1986 non-null   datetime64[ns, UTC]\n",
      " 4   source                      1986 non-null   category           \n",
      " 5   text                        1986 non-null   object             \n",
      " 6   retweeted_status_id         0 non-null      float64            \n",
      " 7   retweeted_status_user_id    0 non-null      float64            \n",
      " 8   retweeted_status_timestamp  0 non-null      datetime64[ns, UTC]\n",
      " 9   expanded_urls               1986 non-null   object             \n",
      " 10  rating_numerator            1986 non-null   int64              \n",
      " 11  rating_denominator          1986 non-null   int64              \n",
      " 12  name                        1986 non-null   object             \n",
      " 13  doggo                       1986 non-null   object             \n",
      " 14  floofer                     1986 non-null   object             \n",
      " 15  pupper                      1986 non-null   object             \n",
      " 16  puppo                       1986 non-null   object             \n",
      " 17  favorites                   1986 non-null   int64              \n",
      " 18  retweets                    1986 non-null   int64              \n",
      " 19  timestamp_y                 1986 non-null   object             \n",
      " 20  jpg_url                     1986 non-null   object             \n",
      " 21  img_num                     1986 non-null   int64              \n",
      " 22  p1                          1986 non-null   object             \n",
      " 23  p1_conf                     1986 non-null   float64            \n",
      " 24  p1_dog                      1986 non-null   bool               \n",
      " 25  p2                          1986 non-null   object             \n",
      " 26  p2_conf                     1986 non-null   float64            \n",
      " 27  p2_dog                      1986 non-null   bool               \n",
      " 28  p3                          1986 non-null   object             \n",
      " 29  p3_conf                     1986 non-null   float64            \n",
      " 30  p3_dog                      1986 non-null   bool               \n",
      " 31  breed_prediction            1678 non-null   object             \n",
      " 32  prediction_confidence       1678 non-null   float64            \n",
      " 33  trait                       305 non-null    object             \n",
      "dtypes: bool(3), category(1), datetime64[ns, UTC](2), float64(8), int64(6), object(14)\n",
      "memory usage: 488.9+ KB\n"
     ]
    }
   ],
   "source": [
    "twitter_archive_clean_df.info()"
   ]
  },
  {
   "cell_type": "markdown",
   "metadata": {},
   "source": [
    "### Issue: Some status replies still included in the dataset"
   ]
  },
  {
   "cell_type": "markdown",
   "metadata": {},
   "source": [
    "#### Define:\n",
    "Extract and retain only the rows with null entries in their in_reply_to_status_id column."
   ]
  },
  {
   "cell_type": "markdown",
   "metadata": {},
   "source": [
    "#### Code"
   ]
  },
  {
   "cell_type": "code",
   "execution_count": 67,
   "metadata": {},
   "outputs": [],
   "source": [
    "# remove the status reply rows from the dataframe\n",
    "\n",
    "twitter_archive_clean_df = twitter_archive_clean_df[pd.isnull(twitter_archive_clean_df.in_reply_to_status_id)]"
   ]
  },
  {
   "cell_type": "markdown",
   "metadata": {},
   "source": [
    "#### Test"
   ]
  },
  {
   "cell_type": "code",
   "execution_count": 68,
   "metadata": {
    "scrolled": false
   },
   "outputs": [
    {
     "name": "stdout",
     "output_type": "stream",
     "text": [
      "<class 'pandas.core.frame.DataFrame'>\n",
      "Int64Index: 1963 entries, 0 to 2054\n",
      "Data columns (total 34 columns):\n",
      " #   Column                      Non-Null Count  Dtype              \n",
      "---  ------                      --------------  -----              \n",
      " 0   tweet_id                    1963 non-null   int64              \n",
      " 1   in_reply_to_status_id       0 non-null      float64            \n",
      " 2   in_reply_to_user_id         0 non-null      float64            \n",
      " 3   timestamp_x                 1963 non-null   datetime64[ns, UTC]\n",
      " 4   source                      1963 non-null   category           \n",
      " 5   text                        1963 non-null   object             \n",
      " 6   retweeted_status_id         0 non-null      float64            \n",
      " 7   retweeted_status_user_id    0 non-null      float64            \n",
      " 8   retweeted_status_timestamp  0 non-null      datetime64[ns, UTC]\n",
      " 9   expanded_urls               1963 non-null   object             \n",
      " 10  rating_numerator            1963 non-null   int64              \n",
      " 11  rating_denominator          1963 non-null   int64              \n",
      " 12  name                        1963 non-null   object             \n",
      " 13  doggo                       1963 non-null   object             \n",
      " 14  floofer                     1963 non-null   object             \n",
      " 15  pupper                      1963 non-null   object             \n",
      " 16  puppo                       1963 non-null   object             \n",
      " 17  favorites                   1963 non-null   int64              \n",
      " 18  retweets                    1963 non-null   int64              \n",
      " 19  timestamp_y                 1963 non-null   object             \n",
      " 20  jpg_url                     1963 non-null   object             \n",
      " 21  img_num                     1963 non-null   int64              \n",
      " 22  p1                          1963 non-null   object             \n",
      " 23  p1_conf                     1963 non-null   float64            \n",
      " 24  p1_dog                      1963 non-null   bool               \n",
      " 25  p2                          1963 non-null   object             \n",
      " 26  p2_conf                     1963 non-null   float64            \n",
      " 27  p2_dog                      1963 non-null   bool               \n",
      " 28  p3                          1963 non-null   object             \n",
      " 29  p3_conf                     1963 non-null   float64            \n",
      " 30  p3_dog                      1963 non-null   bool               \n",
      " 31  breed_prediction            1658 non-null   object             \n",
      " 32  prediction_confidence       1658 non-null   float64            \n",
      " 33  trait                       302 non-null    object             \n",
      "dtypes: bool(3), category(1), datetime64[ns, UTC](2), float64(8), int64(6), object(14)\n",
      "memory usage: 483.2+ KB\n"
     ]
    }
   ],
   "source": [
    "twitter_archive_clean_df.info()"
   ]
  },
  {
   "cell_type": "markdown",
   "metadata": {},
   "source": [
    "### Issue: The columns: rating_numerator and rating_denominator both represent thesame variable i.e the dogs' rating"
   ]
  },
  {
   "cell_type": "markdown",
   "metadata": {},
   "source": [
    "#### Define:\n",
    "Create a new feature **calculated_rating** by dividing the rating_numerator by the rating_denominator."
   ]
  },
  {
   "cell_type": "markdown",
   "metadata": {},
   "source": [
    "#### Code"
   ]
  },
  {
   "cell_type": "code",
   "execution_count": 69,
   "metadata": {},
   "outputs": [],
   "source": [
    "# create a new column for calculated_rating\n",
    "\n",
    "twitter_archive_clean_df['calculated_rating'] = twitter_archive_clean_df.rating_numerator * 10 / twitter_archive_clean_df.rating_denominator"
   ]
  },
  {
   "cell_type": "markdown",
   "metadata": {},
   "source": [
    "#### Test"
   ]
  },
  {
   "cell_type": "code",
   "execution_count": 70,
   "metadata": {
    "scrolled": false
   },
   "outputs": [
    {
     "name": "stdout",
     "output_type": "stream",
     "text": [
      "<class 'pandas.core.frame.DataFrame'>\n",
      "Int64Index: 1963 entries, 0 to 2054\n",
      "Data columns (total 35 columns):\n",
      " #   Column                      Non-Null Count  Dtype              \n",
      "---  ------                      --------------  -----              \n",
      " 0   tweet_id                    1963 non-null   int64              \n",
      " 1   in_reply_to_status_id       0 non-null      float64            \n",
      " 2   in_reply_to_user_id         0 non-null      float64            \n",
      " 3   timestamp_x                 1963 non-null   datetime64[ns, UTC]\n",
      " 4   source                      1963 non-null   category           \n",
      " 5   text                        1963 non-null   object             \n",
      " 6   retweeted_status_id         0 non-null      float64            \n",
      " 7   retweeted_status_user_id    0 non-null      float64            \n",
      " 8   retweeted_status_timestamp  0 non-null      datetime64[ns, UTC]\n",
      " 9   expanded_urls               1963 non-null   object             \n",
      " 10  rating_numerator            1963 non-null   int64              \n",
      " 11  rating_denominator          1963 non-null   int64              \n",
      " 12  name                        1963 non-null   object             \n",
      " 13  doggo                       1963 non-null   object             \n",
      " 14  floofer                     1963 non-null   object             \n",
      " 15  pupper                      1963 non-null   object             \n",
      " 16  puppo                       1963 non-null   object             \n",
      " 17  favorites                   1963 non-null   int64              \n",
      " 18  retweets                    1963 non-null   int64              \n",
      " 19  timestamp_y                 1963 non-null   object             \n",
      " 20  jpg_url                     1963 non-null   object             \n",
      " 21  img_num                     1963 non-null   int64              \n",
      " 22  p1                          1963 non-null   object             \n",
      " 23  p1_conf                     1963 non-null   float64            \n",
      " 24  p1_dog                      1963 non-null   bool               \n",
      " 25  p2                          1963 non-null   object             \n",
      " 26  p2_conf                     1963 non-null   float64            \n",
      " 27  p2_dog                      1963 non-null   bool               \n",
      " 28  p3                          1963 non-null   object             \n",
      " 29  p3_conf                     1963 non-null   float64            \n",
      " 30  p3_dog                      1963 non-null   bool               \n",
      " 31  breed_prediction            1658 non-null   object             \n",
      " 32  prediction_confidence       1658 non-null   float64            \n",
      " 33  trait                       302 non-null    object             \n",
      " 34  calculated_rating           1963 non-null   float64            \n",
      "dtypes: bool(3), category(1), datetime64[ns, UTC](2), float64(9), int64(6), object(14)\n",
      "memory usage: 498.5+ KB\n"
     ]
    }
   ],
   "source": [
    "twitter_archive_clean_df.info()"
   ]
  },
  {
   "cell_type": "markdown",
   "metadata": {},
   "source": [
    "### Issue: Duplicated and unused columns in the dataset"
   ]
  },
  {
   "cell_type": "markdown",
   "metadata": {},
   "source": [
    "#### Define:\n",
    "Drop the unused and duplicate columns using the `drop()` method."
   ]
  },
  {
   "cell_type": "markdown",
   "metadata": {},
   "source": [
    "#### Code"
   ]
  },
  {
   "cell_type": "code",
   "execution_count": 71,
   "metadata": {
    "scrolled": true
   },
   "outputs": [
    {
     "name": "stderr",
     "output_type": "stream",
     "text": [
      "C:\\Users\\chidinma\\AppData\\Local\\Temp\\ipykernel_18116\\1137995281.py:4: FutureWarning: In a future version of pandas all arguments of DataFrame.drop except for the argument 'labels' will be keyword-only.\n",
      "  twitter_archive_clean_df = twitter_archive_clean_df.drop(col, 1)\n",
      "C:\\Users\\chidinma\\AppData\\Local\\Temp\\ipykernel_18116\\1137995281.py:4: FutureWarning: In a future version of pandas all arguments of DataFrame.drop except for the argument 'labels' will be keyword-only.\n",
      "  twitter_archive_clean_df = twitter_archive_clean_df.drop(col, 1)\n",
      "C:\\Users\\chidinma\\AppData\\Local\\Temp\\ipykernel_18116\\1137995281.py:4: FutureWarning: In a future version of pandas all arguments of DataFrame.drop except for the argument 'labels' will be keyword-only.\n",
      "  twitter_archive_clean_df = twitter_archive_clean_df.drop(col, 1)\n",
      "C:\\Users\\chidinma\\AppData\\Local\\Temp\\ipykernel_18116\\1137995281.py:4: FutureWarning: In a future version of pandas all arguments of DataFrame.drop except for the argument 'labels' will be keyword-only.\n",
      "  twitter_archive_clean_df = twitter_archive_clean_df.drop(col, 1)\n",
      "C:\\Users\\chidinma\\AppData\\Local\\Temp\\ipykernel_18116\\1137995281.py:4: FutureWarning: In a future version of pandas all arguments of DataFrame.drop except for the argument 'labels' will be keyword-only.\n",
      "  twitter_archive_clean_df = twitter_archive_clean_df.drop(col, 1)\n",
      "C:\\Users\\chidinma\\AppData\\Local\\Temp\\ipykernel_18116\\1137995281.py:4: FutureWarning: In a future version of pandas all arguments of DataFrame.drop except for the argument 'labels' will be keyword-only.\n",
      "  twitter_archive_clean_df = twitter_archive_clean_df.drop(col, 1)\n",
      "C:\\Users\\chidinma\\AppData\\Local\\Temp\\ipykernel_18116\\1137995281.py:4: FutureWarning: In a future version of pandas all arguments of DataFrame.drop except for the argument 'labels' will be keyword-only.\n",
      "  twitter_archive_clean_df = twitter_archive_clean_df.drop(col, 1)\n",
      "C:\\Users\\chidinma\\AppData\\Local\\Temp\\ipykernel_18116\\1137995281.py:4: FutureWarning: In a future version of pandas all arguments of DataFrame.drop except for the argument 'labels' will be keyword-only.\n",
      "  twitter_archive_clean_df = twitter_archive_clean_df.drop(col, 1)\n",
      "C:\\Users\\chidinma\\AppData\\Local\\Temp\\ipykernel_18116\\1137995281.py:4: FutureWarning: In a future version of pandas all arguments of DataFrame.drop except for the argument 'labels' will be keyword-only.\n",
      "  twitter_archive_clean_df = twitter_archive_clean_df.drop(col, 1)\n",
      "C:\\Users\\chidinma\\AppData\\Local\\Temp\\ipykernel_18116\\1137995281.py:4: FutureWarning: In a future version of pandas all arguments of DataFrame.drop except for the argument 'labels' will be keyword-only.\n",
      "  twitter_archive_clean_df = twitter_archive_clean_df.drop(col, 1)\n",
      "C:\\Users\\chidinma\\AppData\\Local\\Temp\\ipykernel_18116\\1137995281.py:4: FutureWarning: In a future version of pandas all arguments of DataFrame.drop except for the argument 'labels' will be keyword-only.\n",
      "  twitter_archive_clean_df = twitter_archive_clean_df.drop(col, 1)\n",
      "C:\\Users\\chidinma\\AppData\\Local\\Temp\\ipykernel_18116\\1137995281.py:4: FutureWarning: In a future version of pandas all arguments of DataFrame.drop except for the argument 'labels' will be keyword-only.\n",
      "  twitter_archive_clean_df = twitter_archive_clean_df.drop(col, 1)\n",
      "C:\\Users\\chidinma\\AppData\\Local\\Temp\\ipykernel_18116\\1137995281.py:4: FutureWarning: In a future version of pandas all arguments of DataFrame.drop except for the argument 'labels' will be keyword-only.\n",
      "  twitter_archive_clean_df = twitter_archive_clean_df.drop(col, 1)\n",
      "C:\\Users\\chidinma\\AppData\\Local\\Temp\\ipykernel_18116\\1137995281.py:4: FutureWarning: In a future version of pandas all arguments of DataFrame.drop except for the argument 'labels' will be keyword-only.\n",
      "  twitter_archive_clean_df = twitter_archive_clean_df.drop(col, 1)\n",
      "C:\\Users\\chidinma\\AppData\\Local\\Temp\\ipykernel_18116\\1137995281.py:4: FutureWarning: In a future version of pandas all arguments of DataFrame.drop except for the argument 'labels' will be keyword-only.\n",
      "  twitter_archive_clean_df = twitter_archive_clean_df.drop(col, 1)\n",
      "C:\\Users\\chidinma\\AppData\\Local\\Temp\\ipykernel_18116\\1137995281.py:4: FutureWarning: In a future version of pandas all arguments of DataFrame.drop except for the argument 'labels' will be keyword-only.\n",
      "  twitter_archive_clean_df = twitter_archive_clean_df.drop(col, 1)\n",
      "C:\\Users\\chidinma\\AppData\\Local\\Temp\\ipykernel_18116\\1137995281.py:4: FutureWarning: In a future version of pandas all arguments of DataFrame.drop except for the argument 'labels' will be keyword-only.\n",
      "  twitter_archive_clean_df = twitter_archive_clean_df.drop(col, 1)\n",
      "C:\\Users\\chidinma\\AppData\\Local\\Temp\\ipykernel_18116\\1137995281.py:4: FutureWarning: In a future version of pandas all arguments of DataFrame.drop except for the argument 'labels' will be keyword-only.\n",
      "  twitter_archive_clean_df = twitter_archive_clean_df.drop(col, 1)\n",
      "C:\\Users\\chidinma\\AppData\\Local\\Temp\\ipykernel_18116\\1137995281.py:4: FutureWarning: In a future version of pandas all arguments of DataFrame.drop except for the argument 'labels' will be keyword-only.\n",
      "  twitter_archive_clean_df = twitter_archive_clean_df.drop(col, 1)\n",
      "C:\\Users\\chidinma\\AppData\\Local\\Temp\\ipykernel_18116\\1137995281.py:4: FutureWarning: In a future version of pandas all arguments of DataFrame.drop except for the argument 'labels' will be keyword-only.\n",
      "  twitter_archive_clean_df = twitter_archive_clean_df.drop(col, 1)\n",
      "C:\\Users\\chidinma\\AppData\\Local\\Temp\\ipykernel_18116\\1137995281.py:4: FutureWarning: In a future version of pandas all arguments of DataFrame.drop except for the argument 'labels' will be keyword-only.\n",
      "  twitter_archive_clean_df = twitter_archive_clean_df.drop(col, 1)\n",
      "C:\\Users\\chidinma\\AppData\\Local\\Temp\\ipykernel_18116\\1137995281.py:4: FutureWarning: In a future version of pandas all arguments of DataFrame.drop except for the argument 'labels' will be keyword-only.\n",
      "  twitter_archive_clean_df = twitter_archive_clean_df.drop(col, 1)\n"
     ]
    }
   ],
   "source": [
    "# Delete columns we don't need anymore\n",
    "\n",
    "for col in ['retweeted_status_id', 'retweeted_status_user_id', 'retweeted_status_timestamp', 'p1', 'p2', 'p3', 'p1_dog', 'p2_dog', 'p3_dog', 'p1_conf', 'p2_conf', 'p3_conf', 'img_num', 'timestamp_y', 'doggo', 'floofer', 'pupper', 'puppo', 'in_reply_to_status_id', 'in_reply_to_user_id', 'rating_denominator', 'rating_numerator']:\n",
    "    twitter_archive_clean_df = twitter_archive_clean_df.drop(col, 1)\n"
   ]
  },
  {
   "cell_type": "markdown",
   "metadata": {},
   "source": [
    "#### Test"
   ]
  },
  {
   "cell_type": "code",
   "execution_count": 72,
   "metadata": {
    "scrolled": true
   },
   "outputs": [
    {
     "data": {
      "text/html": [
       "<div>\n",
       "<style scoped>\n",
       "    .dataframe tbody tr th:only-of-type {\n",
       "        vertical-align: middle;\n",
       "    }\n",
       "\n",
       "    .dataframe tbody tr th {\n",
       "        vertical-align: top;\n",
       "    }\n",
       "\n",
       "    .dataframe thead th {\n",
       "        text-align: right;\n",
       "    }\n",
       "</style>\n",
       "<table border=\"1\" class=\"dataframe\">\n",
       "  <thead>\n",
       "    <tr style=\"text-align: right;\">\n",
       "      <th></th>\n",
       "      <th>tweet_id</th>\n",
       "      <th>timestamp_x</th>\n",
       "      <th>source</th>\n",
       "      <th>text</th>\n",
       "      <th>expanded_urls</th>\n",
       "      <th>name</th>\n",
       "      <th>favorites</th>\n",
       "      <th>retweets</th>\n",
       "      <th>jpg_url</th>\n",
       "      <th>breed_prediction</th>\n",
       "      <th>prediction_confidence</th>\n",
       "      <th>trait</th>\n",
       "      <th>calculated_rating</th>\n",
       "    </tr>\n",
       "  </thead>\n",
       "  <tbody>\n",
       "    <tr>\n",
       "      <th>0</th>\n",
       "      <td>892420643555336193</td>\n",
       "      <td>2017-08-01 16:23:56+00:00</td>\n",
       "      <td>Twitter for iPhone</td>\n",
       "      <td>This is Phineas. He's a mystical boy. Only eve...</td>\n",
       "      <td>https://twitter.com/dog_rates/status/892420643...</td>\n",
       "      <td>Phineas</td>\n",
       "      <td>33599</td>\n",
       "      <td>6950</td>\n",
       "      <td>https://pbs.twimg.com/media/DGKD1-bXoAAIAUK.jpg</td>\n",
       "      <td>NaN</td>\n",
       "      <td>NaN</td>\n",
       "      <td>NaN</td>\n",
       "      <td>13.0</td>\n",
       "    </tr>\n",
       "    <tr>\n",
       "      <th>1</th>\n",
       "      <td>892177421306343426</td>\n",
       "      <td>2017-08-01 00:17:27+00:00</td>\n",
       "      <td>Twitter for iPhone</td>\n",
       "      <td>This is Tilly. She's just checking pup on you....</td>\n",
       "      <td>https://twitter.com/dog_rates/status/892177421...</td>\n",
       "      <td>Tilly</td>\n",
       "      <td>29141</td>\n",
       "      <td>5252</td>\n",
       "      <td>https://pbs.twimg.com/media/DGGmoV4XsAAUL6n.jpg</td>\n",
       "      <td>Chihuahua</td>\n",
       "      <td>0.323581</td>\n",
       "      <td>NaN</td>\n",
       "      <td>13.0</td>\n",
       "    </tr>\n",
       "    <tr>\n",
       "      <th>2</th>\n",
       "      <td>891815181378084864</td>\n",
       "      <td>2017-07-31 00:18:03+00:00</td>\n",
       "      <td>Twitter for iPhone</td>\n",
       "      <td>This is Archie. He is a rare Norwegian Pouncin...</td>\n",
       "      <td>https://twitter.com/dog_rates/status/891815181...</td>\n",
       "      <td>Archie</td>\n",
       "      <td>21928</td>\n",
       "      <td>3458</td>\n",
       "      <td>https://pbs.twimg.com/media/DGBdLU1WsAANxJ9.jpg</td>\n",
       "      <td>Chihuahua</td>\n",
       "      <td>0.716012</td>\n",
       "      <td>NaN</td>\n",
       "      <td>12.0</td>\n",
       "    </tr>\n",
       "  </tbody>\n",
       "</table>\n",
       "</div>"
      ],
      "text/plain": [
       "             tweet_id               timestamp_x              source  \\\n",
       "0  892420643555336193 2017-08-01 16:23:56+00:00  Twitter for iPhone   \n",
       "1  892177421306343426 2017-08-01 00:17:27+00:00  Twitter for iPhone   \n",
       "2  891815181378084864 2017-07-31 00:18:03+00:00  Twitter for iPhone   \n",
       "\n",
       "                                                text  \\\n",
       "0  This is Phineas. He's a mystical boy. Only eve...   \n",
       "1  This is Tilly. She's just checking pup on you....   \n",
       "2  This is Archie. He is a rare Norwegian Pouncin...   \n",
       "\n",
       "                                       expanded_urls     name  favorites  \\\n",
       "0  https://twitter.com/dog_rates/status/892420643...  Phineas      33599   \n",
       "1  https://twitter.com/dog_rates/status/892177421...    Tilly      29141   \n",
       "2  https://twitter.com/dog_rates/status/891815181...   Archie      21928   \n",
       "\n",
       "   retweets                                          jpg_url breed_prediction  \\\n",
       "0      6950  https://pbs.twimg.com/media/DGKD1-bXoAAIAUK.jpg              NaN   \n",
       "1      5252  https://pbs.twimg.com/media/DGGmoV4XsAAUL6n.jpg        Chihuahua   \n",
       "2      3458  https://pbs.twimg.com/media/DGBdLU1WsAANxJ9.jpg        Chihuahua   \n",
       "\n",
       "   prediction_confidence trait  calculated_rating  \n",
       "0                    NaN   NaN               13.0  \n",
       "1               0.323581   NaN               13.0  \n",
       "2               0.716012   NaN               12.0  "
      ]
     },
     "execution_count": 72,
     "metadata": {},
     "output_type": "execute_result"
    }
   ],
   "source": [
    "twitter_archive_clean_df.head(3)"
   ]
  },
  {
   "cell_type": "markdown",
   "metadata": {},
   "source": [
    "### Issue: More explicit column names"
   ]
  },
  {
   "cell_type": "markdown",
   "metadata": {},
   "source": [
    "#### Define:\n",
    "Use the rename function to change some column headers."
   ]
  },
  {
   "cell_type": "markdown",
   "metadata": {},
   "source": [
    "#### Code"
   ]
  },
  {
   "cell_type": "code",
   "execution_count": 73,
   "metadata": {},
   "outputs": [],
   "source": [
    "# give table more descriptive column headers\n",
    "\n",
    "twitter_archive_clean_df = twitter_archive_clean_df.rename(columns={'timestamp_x': 'timestamp',\n",
    "                                     'source': 'tweet_source',\n",
    "                                     'retweets': 'no_of_retweets',\n",
    "                                     'name': 'dog_name',\n",
    "                                     'text': 'tweet',\n",
    "                                     'favorites': 'no_of_likes',\n",
    "                                     'trait': 'dog_trait',\n",
    "                                    }\n",
    "                           )"
   ]
  },
  {
   "cell_type": "markdown",
   "metadata": {},
   "source": [
    "#### Test"
   ]
  },
  {
   "cell_type": "code",
   "execution_count": 74,
   "metadata": {
    "scrolled": false
   },
   "outputs": [
    {
     "name": "stdout",
     "output_type": "stream",
     "text": [
      "<class 'pandas.core.frame.DataFrame'>\n",
      "Int64Index: 1963 entries, 0 to 2054\n",
      "Data columns (total 13 columns):\n",
      " #   Column                 Non-Null Count  Dtype              \n",
      "---  ------                 --------------  -----              \n",
      " 0   tweet_id               1963 non-null   int64              \n",
      " 1   timestamp              1963 non-null   datetime64[ns, UTC]\n",
      " 2   tweet_source           1963 non-null   category           \n",
      " 3   tweet                  1963 non-null   object             \n",
      " 4   expanded_urls          1963 non-null   object             \n",
      " 5   dog_name               1963 non-null   object             \n",
      " 6   no_of_likes            1963 non-null   int64              \n",
      " 7   no_of_retweets         1963 non-null   int64              \n",
      " 8   jpg_url                1963 non-null   object             \n",
      " 9   breed_prediction       1658 non-null   object             \n",
      " 10  prediction_confidence  1658 non-null   float64            \n",
      " 11  dog_trait              302 non-null    object             \n",
      " 12  calculated_rating      1963 non-null   float64            \n",
      "dtypes: category(1), datetime64[ns, UTC](1), float64(2), int64(3), object(6)\n",
      "memory usage: 201.4+ KB\n"
     ]
    }
   ],
   "source": [
    "twitter_archive_clean_df.info()"
   ]
  },
  {
   "cell_type": "markdown",
   "metadata": {},
   "source": [
    "### Issue: Wrong datatype for the dog_trait feature"
   ]
  },
  {
   "cell_type": "markdown",
   "metadata": {},
   "source": [
    "#### Define:\n",
    "Change the dog_trait datatype to category using the `astype()` method"
   ]
  },
  {
   "cell_type": "markdown",
   "metadata": {},
   "source": [
    "#### Code"
   ]
  },
  {
   "cell_type": "code",
   "execution_count": 75,
   "metadata": {},
   "outputs": [],
   "source": [
    "# set the dog_trait feature to category datatype\n",
    "twitter_archive_clean_df.dog_trait = twitter_archive_clean_df.dog_trait.astype(\"category\")"
   ]
  },
  {
   "cell_type": "markdown",
   "metadata": {},
   "source": [
    "#### Test"
   ]
  },
  {
   "cell_type": "code",
   "execution_count": 76,
   "metadata": {},
   "outputs": [
    {
     "data": {
      "text/plain": [
       "tweet_id                               int64\n",
       "timestamp                datetime64[ns, UTC]\n",
       "tweet_source                        category\n",
       "tweet                                 object\n",
       "expanded_urls                         object\n",
       "dog_name                              object\n",
       "no_of_likes                            int64\n",
       "no_of_retweets                         int64\n",
       "jpg_url                               object\n",
       "breed_prediction                      object\n",
       "prediction_confidence                float64\n",
       "dog_trait                           category\n",
       "calculated_rating                    float64\n",
       "dtype: object"
      ]
     },
     "execution_count": 76,
     "metadata": {},
     "output_type": "execute_result"
    }
   ],
   "source": [
    "twitter_archive_clean_df.dtypes"
   ]
  },
  {
   "cell_type": "markdown",
   "metadata": {},
   "source": [
    "All the features/columns are now properly represented with the right datatypes."
   ]
  },
  {
   "cell_type": "markdown",
   "metadata": {},
   "source": [
    "<a id='store'></a>\n",
    "## Storing Data\n",
    "Saving the gathered, assessed, and cleaned master dataset to a CSV file named \"twitter_archive_master.csv\"."
   ]
  },
  {
   "cell_type": "markdown",
   "metadata": {},
   "source": [
    "Saving the cleaned dataset is done using the `to_csv()` pandas method "
   ]
  },
  {
   "cell_type": "code",
   "execution_count": 78,
   "metadata": {},
   "outputs": [],
   "source": [
    "# saving the cleaned dataset to file\n",
    "twitter_archive_clean_df.to_csv(\"twitter_archive_master.csv\", index=False)"
   ]
  },
  {
   "cell_type": "markdown",
   "metadata": {},
   "source": [
    "<a id='ana'></a>\n",
    "## Analyzing and Visualizing Data\n",
    "After accesing and cleaning the dataset, analysis can then be carried out and plot visualizations produced to show trends relationships among different variables in our dataset, from which valuable insight can be made."
   ]
  },
  {
   "cell_type": "markdown",
   "metadata": {},
   "source": [
    "### Exploring the dataset"
   ]
  },
  {
   "cell_type": "code",
   "execution_count": 79,
   "metadata": {
    "scrolled": false
   },
   "outputs": [
    {
     "data": {
      "image/png": "[encoded data removed]",
      "text/plain": [
       "<Figure size 800x800 with 25 Axes>"
      ]
     },
     "metadata": {},
     "output_type": "display_data"
    }
   ],
   "source": [
    "# explore the correlation among numerical features\n",
    "\n",
    "pd.plotting.scatter_matrix(twitter_archive_clean_df, figsize=(8,8));"
   ]
  },
  {
   "cell_type": "markdown",
   "metadata": {},
   "source": [
    "Here, we see that as expected, there is a high correlation between number of likes for a tweet and it's retweet count."
   ]
  },
  {
   "cell_type": "code",
   "execution_count": 80,
   "metadata": {},
   "outputs": [
    {
     "data": {
      "text/html": [
       "<div>\n",
       "<style scoped>\n",
       "    .dataframe tbody tr th:only-of-type {\n",
       "        vertical-align: middle;\n",
       "    }\n",
       "\n",
       "    .dataframe tbody tr th {\n",
       "        vertical-align: top;\n",
       "    }\n",
       "\n",
       "    .dataframe thead th {\n",
       "        text-align: right;\n",
       "    }\n",
       "</style>\n",
       "<table border=\"1\" class=\"dataframe\">\n",
       "  <thead>\n",
       "    <tr style=\"text-align: right;\">\n",
       "      <th></th>\n",
       "      <th>count</th>\n",
       "      <th>mean</th>\n",
       "      <th>std</th>\n",
       "      <th>min</th>\n",
       "      <th>25%</th>\n",
       "      <th>50%</th>\n",
       "      <th>75%</th>\n",
       "      <th>max</th>\n",
       "    </tr>\n",
       "    <tr>\n",
       "      <th>tweet_source</th>\n",
       "      <th></th>\n",
       "      <th></th>\n",
       "      <th></th>\n",
       "      <th></th>\n",
       "      <th></th>\n",
       "      <th></th>\n",
       "      <th></th>\n",
       "      <th></th>\n",
       "    </tr>\n",
       "  </thead>\n",
       "  <tbody>\n",
       "    <tr>\n",
       "      <th>TweetDeck</th>\n",
       "      <td>10.0</td>\n",
       "      <td>3830.300000</td>\n",
       "      <td>2849.397365</td>\n",
       "      <td>2010.0</td>\n",
       "      <td>2588.25</td>\n",
       "      <td>2943.5</td>\n",
       "      <td>3210.00</td>\n",
       "      <td>11668.0</td>\n",
       "    </tr>\n",
       "    <tr>\n",
       "      <th>Twitter Web Client</th>\n",
       "      <td>28.0</td>\n",
       "      <td>5114.000000</td>\n",
       "      <td>7940.063938</td>\n",
       "      <td>170.0</td>\n",
       "      <td>328.25</td>\n",
       "      <td>596.5</td>\n",
       "      <td>6459.25</td>\n",
       "      <td>29289.0</td>\n",
       "    </tr>\n",
       "    <tr>\n",
       "      <th>Twitter for iPhone</th>\n",
       "      <td>1925.0</td>\n",
       "      <td>7760.591169</td>\n",
       "      <td>11407.170563</td>\n",
       "      <td>66.0</td>\n",
       "      <td>1692.00</td>\n",
       "      <td>3497.0</td>\n",
       "      <td>9655.00</td>\n",
       "      <td>143711.0</td>\n",
       "    </tr>\n",
       "  </tbody>\n",
       "</table>\n",
       "</div>"
      ],
      "text/plain": [
       "                     count         mean           std     min      25%  \\\n",
       "tweet_source                                                             \n",
       "TweetDeck             10.0  3830.300000   2849.397365  2010.0  2588.25   \n",
       "Twitter Web Client    28.0  5114.000000   7940.063938   170.0   328.25   \n",
       "Twitter for iPhone  1925.0  7760.591169  11407.170563    66.0  1692.00   \n",
       "\n",
       "                       50%      75%       max  \n",
       "tweet_source                                   \n",
       "TweetDeck           2943.5  3210.00   11668.0  \n",
       "Twitter Web Client   596.5  6459.25   29289.0  \n",
       "Twitter for iPhone  3497.0  9655.00  143711.0  "
      ]
     },
     "execution_count": 80,
     "metadata": {},
     "output_type": "execute_result"
    }
   ],
   "source": [
    "# explore the relationship between tweet_source and the number of likes using descriptive statistics\n",
    "\n",
    "twitter_archive_clean_df.groupby('tweet_source').describe().no_of_likes"
   ]
  },
  {
   "cell_type": "markdown",
   "metadata": {},
   "source": [
    "### Drawing Conclusion"
   ]
  },
  {
   "cell_type": "markdown",
   "metadata": {},
   "source": [
    "####  Tweets characteristics based on tweet source"
   ]
  },
  {
   "cell_type": "code",
   "execution_count": 81,
   "metadata": {
    "scrolled": false
   },
   "outputs": [
    {
     "data": {
      "text/plain": [
       "Twitter for iPhone    98.064187\n",
       "Twitter Web Client     1.426388\n",
       "TweetDeck              0.509424\n",
       "Name: tweet_source, dtype: float64"
      ]
     },
     "metadata": {},
     "output_type": "display_data"
    },
    {
     "data": {
      "image/png": "[encoded data removed]",
      "text/plain": [
       "<Figure size 640x480 with 1 Axes>"
      ]
     },
     "metadata": {},
     "output_type": "display_data"
    }
   ],
   "source": [
    "# group the dataframe based on tweets per source\n",
    "tweet_percentage_per_source = twitter_archive_clean_df.tweet_source.value_counts()*100/(twitter_archive_clean_df.tweet_source.count())\n",
    "display(tweet_percentage_per_source)\n",
    "\n",
    "labels = twitter_archive_clean_df.tweet_source.unique().tolist()\n",
    "\n",
    "explode = [0, 0.1, 0.2]\n",
    "plt.pie(tweet_percentage_per_source, explode = explode, labels = labels, radius = 0.8);\n",
    "plt.legend();\n",
    "plt.title('Tweets per Source');"
   ]
  },
  {
   "cell_type": "markdown",
   "metadata": {},
   "source": [
    "Here it's clear that most of the tweets sent by @WeRateDogs within the period of study are sent through Twitter for iPhone."
   ]
  },
  {
   "cell_type": "code",
   "execution_count": 82,
   "metadata": {},
   "outputs": [
    {
     "data": {
      "image/png": "[encoded data removed]",
      "text/plain": [
       "<Figure size 500x300 with 1 Axes>"
      ]
     },
     "metadata": {},
     "output_type": "display_data"
    }
   ],
   "source": [
    "# group the dataframe based on minimum number of likes for each tweet_source\n",
    "min_likes_per_source = twitter_archive_clean_df.groupby('tweet_source').no_of_likes.min()\n",
    "labels = min_likes_per_source.index\n",
    "\n",
    "locations = [1, 2, 3]\n",
    "heights = min_likes_per_source\n",
    "ab = plt.figure(figsize=(5,3))\n",
    "plt.bar(locations, heights, tick_label=labels, color='orange')\n",
    "plt.xticks(fontsize=8);\n",
    "plt.xticks(fontsize=8);\n",
    "plt.title('Minumim number of Likes by Tweet Source')\n",
    "plt.xlabel('Tweet Source')\n",
    "plt.ylabel('Number of Likes');"
   ]
  },
  {
   "cell_type": "markdown",
   "metadata": {},
   "source": [
    "We see clearly from the chart that the least number of likes a post got is far higher than of the other sources."
   ]
  },
  {
   "cell_type": "markdown",
   "metadata": {},
   "source": [
    "#### Tweets characteristics based on timestamp"
   ]
  },
  {
   "cell_type": "code",
   "execution_count": 83,
   "metadata": {},
   "outputs": [],
   "source": [
    "# define a functon for plottiing timeline graphs\n",
    "def plot_timestamp(vs_col):\n",
    "    a = twitter_archive_clean_df.groupby(pd.Grouper(key='timestamp', axis=0, freq='M')).sum()[vs_col]\n",
    "    a_df = pd.Series(a)\n",
    "    \n",
    "    a_df.plot(x=a.index, y=a, figsize=(7,4), color='Purple');\n",
    "\n",
    "    print(f\"{np.array(a[a == a.max()].index.to_period('M'))[0]} had the highest {vs_col}\")"
   ]
  },
  {
   "cell_type": "code",
   "execution_count": 84,
   "metadata": {},
   "outputs": [
    {
     "name": "stdout",
     "output_type": "stream",
     "text": [
      "2015-12 had the highest no_of_retweets\n"
     ]
    },
    {
     "name": "stderr",
     "output_type": "stream",
     "text": [
      "C:\\Users\\chidinma\\New folder\\lib\\site-packages\\pandas\\core\\arrays\\datetimes.py:1162: UserWarning: Converting to PeriodArray/Index representation will drop timezone information.\n",
      "  warnings.warn(\n"
     ]
    },
    {
     "data": {
      "image/png": "[encoded data removed]",
      "text/plain": [
       "<Figure size 700x400 with 1 Axes>"
      ]
     },
     "metadata": {},
     "output_type": "display_data"
    }
   ],
   "source": [
    "# exploring the relationship between timestamp and retweets\n",
    "plot_timestamp('no_of_retweets');\n",
    "plt.title('Number of retweets over time');\n",
    "plt.xlabel('Timeline');\n",
    "plt.ylabel('Number of retweets');"
   ]
  },
  {
   "cell_type": "markdown",
   "metadata": {},
   "source": [
    "From this line graph, we see clearly that @WeRateDogs got it's highest number of retweets in December 2015."
   ]
  },
  {
   "cell_type": "code",
   "execution_count": 85,
   "metadata": {
    "scrolled": false
   },
   "outputs": [
    {
     "name": "stderr",
     "output_type": "stream",
     "text": [
      "C:\\Users\\chidinma\\New folder\\lib\\site-packages\\pandas\\core\\arrays\\datetimes.py:1162: UserWarning: Converting to PeriodArray/Index representation will drop timezone information.\n",
      "  warnings.warn(\n"
     ]
    },
    {
     "name": "stdout",
     "output_type": "stream",
     "text": [
      "2017-07 had the highest no_of_likes\n"
     ]
    },
    {
     "data": {
      "image/png": "[encoded data removed]",
      "text/plain": [
       "<Figure size 700x400 with 1 Axes>"
      ]
     },
     "metadata": {},
     "output_type": "display_data"
    }
   ],
   "source": [
    "# exploring the relationship between timestamp and no of likes\n",
    "plot_timestamp('no_of_likes');\n",
    "plt.title('Number of likes over time');\n",
    "plt.xlabel('Timeline');\n",
    "plt.ylabel('Number of likes');"
   ]
  },
  {
   "cell_type": "markdown",
   "metadata": {},
   "source": [
    "From this line graph, we see clearly that @WeRateDogs got it's highest number of likes in July 2017."
   ]
  },
  {
   "cell_type": "code",
   "execution_count": 86,
   "metadata": {},
   "outputs": [
    {
     "name": "stderr",
     "output_type": "stream",
     "text": [
      "C:\\Users\\chidinma\\New folder\\lib\\site-packages\\pandas\\core\\arrays\\datetimes.py:1162: UserWarning: Converting to PeriodArray/Index representation will drop timezone information.\n",
      "  warnings.warn(\n"
     ]
    },
    {
     "name": "stdout",
     "output_type": "stream",
     "text": [
      "2016-07 had the highest average rating\n"
     ]
    },
    {
     "data": {
      "image/png": "[encoded data removed]",
      "text/plain": [
       "<Figure size 700x400 with 1 Axes>"
      ]
     },
     "metadata": {},
     "output_type": "display_data"
    }
   ],
   "source": [
    "# exploring the relationship between timestamp and rating\n",
    "a = twitter_archive_clean_df.groupby(pd.Grouper(key='timestamp', axis=0, freq='M')).mean()['calculated_rating']\n",
    "a_df = pd.Series(a)\n",
    "\n",
    "print(f\"{np.array(a[a == a.max()].index.to_period('M'))[0]} had the highest average rating\")\n",
    "a_df.plot(x=a.index, y=a, figsize=(7,4), color='Purple');\n",
    "plt.title('Average Dog ratings per month');\n",
    "plt.xlabel('Timeline');\n",
    "plt.ylabel('Average Dog Ratings');"
   ]
  },
  {
   "cell_type": "markdown",
   "metadata": {},
   "source": [
    "From this line graph, we see clearly that July 2016 had the highest average rating for the period of study."
   ]
  },
  {
   "cell_type": "markdown",
   "metadata": {},
   "source": [
    "#### Most loved dog traits based on rating given"
   ]
  },
  {
   "cell_type": "code",
   "execution_count": 87,
   "metadata": {
    "scrolled": false
   },
   "outputs": [
    {
     "name": "stdout",
     "output_type": "stream",
     "text": [
      "dog_trait\n",
      "doggo      11.777778\n",
      "floofer    12.000000\n",
      "pupper     10.716418\n",
      "puppo      12.000000\n",
      "Name: calculated_rating, dtype: float64\n"
     ]
    },
    {
     "data": {
      "image/png": "[encoded data removed]",
      "text/plain": [
       "<Figure size 500x300 with 1 Axes>"
      ]
     },
     "metadata": {},
     "output_type": "display_data"
    }
   ],
   "source": [
    "# group the dataframe average ratings for each dog_traits\n",
    "trait_ratings = twitter_archive_clean_df.groupby('dog_trait').mean().calculated_rating\n",
    "labels = trait_ratings.index\n",
    "\n",
    "print(trait_ratings)\n",
    "\n",
    "locations = [1, 2, 3, 4]\n",
    "heights = trait_ratings\n",
    "ab = plt.figure(figsize=(5,3))\n",
    "plt.bar(locations, heights, tick_label=labels, )\n",
    "plt.title('Average Ratings by dog traits')\n",
    "plt.xlabel('Dog Traits')\n",
    "plt.ylabel('Average Dog Ratings');"
   ]
  },
  {
   "cell_type": "markdown",
   "metadata": {},
   "source": [
    "From the chart above, puppo and floofer are the most highly rated dog characteristics or traits."
   ]
  },
  {
   "cell_type": "markdown",
   "metadata": {},
   "source": [
    "<a id='conclusion'></a>\n",
    "## Conclusion / Insights:\n",
    ">1. Over 98% of the tweets sent by @WeRateDogs are sent through Twitter for iPhone. However, owing to the tools provided by the TweetDeck platform, tweets from there have minimum like count of 2010 (Way higher than the other sources).\n",
    ">2. Tweets made by @WeRateDogs in December, 2015  have the highest number of retweets while tweets  made in July 2017 had the highest number of likes. July 2016 had the highest average dog ratings of the period considered. This seems interesing and would require further investigation.\n",
    ">3. From the analysis carried out, puppo and floofer are the most highly rated dog characteristics or traits."
   ]
  }
 ],
 "metadata": {
  "extensions": {
   "jupyter_dashboards": {
    "activeView": "report_default",
    "version": 1,
    "views": {
     "grid_default": {
      "cellMargin": 10,
      "defaultCellHeight": 20,
      "maxColumns": 12,
      "name": "grid",
      "type": "grid"
     },
     "report_default": {
      "name": "report",
      "type": "report"
     }
    }
   }
  },
  "kernelspec": {
   "display_name": "Python 3 (ipykernel)",
   "language": "python",
   "name": "python3"
  },
  "language_info": {
   "codemirror_mode": {
    "name": "ipython",
    "version": 3
   },
   "file_extension": ".py",
   "mimetype": "text/x-python",
   "name": "python",
   "nbconvert_exporter": "python",
   "pygments_lexer": "ipython3",
   "version": "3.9.13"
  }
 },
 "nbformat": 4,
 "nbformat_minor": 2
}
